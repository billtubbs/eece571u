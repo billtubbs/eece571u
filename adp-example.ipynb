{
 "cells": [
  {
   "cell_type": "markdown",
   "metadata": {},
   "source": [
    "# Approximate Dynamic Programming Exercises\n",
    "\n",
    "- Class: EECE 571U\n",
    "- Author: Bill Tubbs"
   ]
  },
  {
   "cell_type": "code",
   "execution_count": 1,
   "metadata": {},
   "outputs": [],
   "source": [
    "import numpy as np\n",
    "from scipy.stats import norm\n",
    "import matplotlib.pyplot as plt"
   ]
  },
  {
   "cell_type": "markdown",
   "metadata": {},
   "source": [
    "## Background - Probability distributions"
   ]
  },
  {
   "cell_type": "code",
   "execution_count": 2,
   "metadata": {},
   "outputs": [
    {
     "data": {
      "image/png": "[encoded data removed]",
      "text/plain": [
       "<Figure size 432x288 with 1 Axes>"
      ]
     },
     "metadata": {
      "needs_background": "light"
     },
     "output_type": "display_data"
    }
   ],
   "source": [
    "x = np.linspace(-4,4,101)\n",
    "plt.plot(x, norm.pdf(x), label='Normal')\n",
    "plt.title(\"Probability Density Functions\")\n",
    "plt.legend()\n",
    "plt.grid()\n",
    "plt.show()"
   ]
  },
  {
   "cell_type": "code",
   "execution_count": 3,
   "metadata": {},
   "outputs": [
    {
     "data": {
      "text/plain": [
       "1.250384414790634"
      ]
     },
     "execution_count": 3,
     "metadata": {},
     "output_type": "execute_result"
    }
   ],
   "source": [
    "# Random sample (random variates)\n",
    "norm.rvs()"
   ]
  },
  {
   "cell_type": "code",
   "execution_count": 4,
   "metadata": {},
   "outputs": [
    {
     "data": {
      "text/plain": [
       "0.5"
      ]
     },
     "execution_count": 4,
     "metadata": {},
     "output_type": "execute_result"
    }
   ],
   "source": [
    "# Cumulative probability density function\n",
    "norm.cdf(0)"
   ]
  },
  {
   "cell_type": "markdown",
   "metadata": {},
   "source": [
    "## Exercise 8.3\n",
    "\n",
    "Formulate a 1-dimensional LQG problem. Approximate its solution using the procedure above. Implement your solution in Matlab. What choices do you have to make to implement your algorithm? Evaluate your approximation quality based on these choices."
   ]
  },
  {
   "cell_type": "code",
   "execution_count": 5,
   "metadata": {},
   "outputs": [],
   "source": [
    "def next_state(x, u, w):\n",
    "    \"\"\"Next state given x, u, w.\n",
    "    \"\"\"\n",
    "    return x + u - w\n",
    "\n",
    "def next_state_sample(x, u, w, size=None):\n",
    "    return next_state(x, u, w.rvs(size=size))\n",
    "\n",
    "def next_state_expected(x, u, w):\n",
    "    \"\"\"Expected value of next state given x, u.\n",
    "    \"\"\"\n",
    "    return next_state(x, u, w.mean())\n",
    "\n",
    "def next_state_probability(x, u, dx_dash):\n",
    "    \"\"\"Probability of next state being in discrete state\n",
    "    dx_dash given x, u.\"\"\"\n",
    "    return expected_next_state(x, u, 0)\n",
    "\n",
    "def cost_function(x, u, w, c, r, cost_to_go=0):\n",
    "    \"\"\"Cost function in state x given u, w and cost_to_go.\n",
    "    \"\"\"\n",
    "    return cost_to_go + x**2 + c*u - r*w"
   ]
  },
  {
   "cell_type": "code",
   "execution_count": 6,
   "metadata": {},
   "outputs": [],
   "source": [
    "# Choose system parameters\n",
    "c = 1\n",
    "r = 0.1\n",
    "w = norm()"
   ]
  },
  {
   "cell_type": "code",
   "execution_count": 7,
   "metadata": {},
   "outputs": [
    {
     "data": {
      "text/plain": [
       "1.5432029273818617"
      ]
     },
     "execution_count": 7,
     "metadata": {},
     "output_type": "execute_result"
    }
   ],
   "source": [
    "# Sample the next state (random)\n",
    "x = 0\n",
    "u = 1\n",
    "next_state_sample(x, u, w)"
   ]
  },
  {
   "cell_type": "code",
   "execution_count": 8,
   "metadata": {},
   "outputs": [
    {
     "data": {
      "text/plain": [
       "1.0"
      ]
     },
     "execution_count": 8,
     "metadata": {},
     "output_type": "execute_result"
    }
   ],
   "source": [
    "# Expected value of next state\n",
    "next_state_expected(x, u, w)"
   ]
  },
  {
   "cell_type": "code",
   "execution_count": 9,
   "metadata": {},
   "outputs": [
    {
     "data": {
      "text/plain": [
       "0.5"
      ]
     },
     "execution_count": 9,
     "metadata": {},
     "output_type": "execute_result"
    }
   ],
   "source": [
    "w.cdf(0)"
   ]
  },
  {
   "cell_type": "code",
   "execution_count": 10,
   "metadata": {},
   "outputs": [],
   "source": [
    "# Simulation setup\n",
    "\n",
    "# Number of timesteps\n",
    "N = 10"
   ]
  },
  {
   "cell_type": "code",
   "execution_count": 12,
   "metadata": {},
   "outputs": [],
   "source": [
    "# Define discretized state and action spaces\n",
    "x_bounds = [-1, 1]\n",
    "n_states = 21\n",
    "states = np.linspace(x_bounds[0], x_bounds[1], n_states)\n",
    "\n",
    "action_bounds = [-1, 1]\n",
    "n_actions = 21\n",
    "actions = np.linspace(action_bounds[0], action_bounds[1], n_states)"
   ]
  },
  {
   "cell_type": "code",
   "execution_count": 13,
   "metadata": {},
   "outputs": [],
   "source": [
    "# Calculate terminal state values\n",
    "x_terminal = 0\n",
    "terminal_state_values = {x: x**2 for x in states}"
   ]
  },
  {
   "cell_type": "code",
   "execution_count": 14,
   "metadata": {},
   "outputs": [],
   "source": [
    "# Create discretized value function\n",
    "state_value_function = {round(x, 1): None for x in states}"
   ]
  },
  {
   "cell_type": "code",
   "execution_count": 15,
   "metadata": {},
   "outputs": [
    {
     "name": "stdout",
     "output_type": "stream",
     "text": [
      "9\n",
      "8\n",
      "7\n",
      "6\n",
      "5\n",
      "4\n",
      "3\n",
      "2\n",
      "1\n",
      "0\n"
     ]
    }
   ],
   "source": [
    "# Compute all state values recursively\n",
    "for t in range(N-1, -1, -1):\n",
    "    print(t)"
   ]
  },
  {
   "cell_type": "code",
   "execution_count": null,
   "metadata": {},
   "outputs": [],
   "source": []
  }
 ],
 "metadata": {
  "kernelspec": {
   "display_name": "Python [conda env:torch]",
   "language": "python",
   "name": "conda-env-torch-py"
  },
  "language_info": {
   "codemirror_mode": {
    "name": "ipython",
    "version": 3
   },
   "file_extension": ".py",
   "mimetype": "text/x-python",
   "name": "python",
   "nbconvert_exporter": "python",
   "pygments_lexer": "ipython3",
   "version": "3.7.6"
  }
 },
 "nbformat": 4,
 "nbformat_minor": 2
}
