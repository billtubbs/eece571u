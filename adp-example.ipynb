{
 "cells": [
  {
   "cell_type": "markdown",
   "metadata": {},
   "source": [
    "# Approximate Dynamic Programming Exercises\n",
    "\n",
    "- Class: EECE 571U\n",
    "- Author: Bill Tubbs"
   ]
  },
  {
   "cell_type": "code",
   "execution_count": 1,
   "metadata": {},
   "outputs": [],
   "source": [
    "import numpy as np\n",
    "import pandas as pd\n",
    "from scipy.stats import norm\n",
    "import matplotlib.pyplot as plt"
   ]
  },
  {
   "cell_type": "markdown",
   "metadata": {},
   "source": [
    "## Background - Probability distributions with Scipy"
   ]
  },
  {
   "cell_type": "code",
   "execution_count": 2,
   "metadata": {},
   "outputs": [
    {
     "data": {
      "image/png": "[encoded data removed]",
      "text/plain": [
       "<Figure size 432x288 with 1 Axes>"
      ]
     },
     "metadata": {
      "needs_background": "light"
     },
     "output_type": "display_data"
    }
   ],
   "source": [
    "x = np.linspace(-4,4,101)\n",
    "plt.plot(x, norm.pdf(x), label='Normal')\n",
    "plt.title(\"Probability Density Function\")\n",
    "plt.legend()\n",
    "plt.grid()\n",
    "plt.show()"
   ]
  },
  {
   "cell_type": "code",
   "execution_count": 3,
   "metadata": {},
   "outputs": [
    {
     "data": {
      "text/plain": [
       "-1.1272943435546239"
      ]
     },
     "execution_count": 3,
     "metadata": {},
     "output_type": "execute_result"
    }
   ],
   "source": [
    "# Random sample (random variates)\n",
    "norm.rvs()"
   ]
  },
  {
   "cell_type": "code",
   "execution_count": 4,
   "metadata": {},
   "outputs": [
    {
     "data": {
      "text/plain": [
       "0.5"
      ]
     },
     "execution_count": 4,
     "metadata": {},
     "output_type": "execute_result"
    }
   ],
   "source": [
    "# Cumulative probability density function\n",
    "norm.cdf(0)"
   ]
  },
  {
   "cell_type": "markdown",
   "metadata": {},
   "source": [
    "## Exercise 8.3\n",
    "\n",
    "Formulate a 1-dimensional LQG problem. Approximate its solution using the procedure above. Implement your solution in Matlab. What choices do you have to make to implement your algorithm? Evaluate your approximation quality based on these choices."
   ]
  },
  {
   "cell_type": "code",
   "execution_count": 5,
   "metadata": {},
   "outputs": [],
   "source": [
    "def next_state(x, u, w):\n",
    "    \"\"\"Next state given x, u, w.\n",
    "    \"\"\"\n",
    "    return x + u - w\n",
    "\n",
    "def next_state_sample(x, u, w, size=None):\n",
    "    \"\"\"Sample from the distribution of next states\n",
    "    given x, u, w.\n",
    "    \"\"\"\n",
    "    return next_state(x, u, w.rvs(size=size))\n",
    "\n",
    "def next_state_expected(x, u, w):\n",
    "    \"\"\"Expected value of next state given x, u.\n",
    "    \"\"\"\n",
    "    return next_state(x, u, w.mean())\n",
    "\n",
    "def next_state_probability(x, u, w, dx):\n",
    "    \"\"\"Probability of next state given x, u being in the\n",
    "    range of x given by dx where dx has two items (x1, x2).\n",
    "    \"\"\"\n",
    "    return w.cdf(dx[1] - x - u) - w.cdf(dx[0] - x - u)\n",
    "\n",
    "def cost_function(x, u, w, c, r, cost_to_go=0):\n",
    "    \"\"\"Cost function in state x given u, w and cost_to_go.\n",
    "    \"\"\"\n",
    "    return cost_to_go + x**2 + c*u - r*w"
   ]
  },
  {
   "cell_type": "code",
   "execution_count": 6,
   "metadata": {},
   "outputs": [],
   "source": [
    "# Choose system parameters\n",
    "c = 1\n",
    "r = 0.1\n",
    "w = norm()"
   ]
  },
  {
   "cell_type": "code",
   "execution_count": 7,
   "metadata": {},
   "outputs": [
    {
     "data": {
      "text/plain": [
       "2.099357555442708"
      ]
     },
     "execution_count": 7,
     "metadata": {},
     "output_type": "execute_result"
    }
   ],
   "source": [
    "# Sample the next state (random)\n",
    "x = 0\n",
    "u = 1\n",
    "next_state_sample(x, u, w)"
   ]
  },
  {
   "cell_type": "code",
   "execution_count": 8,
   "metadata": {},
   "outputs": [
    {
     "data": {
      "text/plain": [
       "1.0"
      ]
     },
     "execution_count": 8,
     "metadata": {},
     "output_type": "execute_result"
    }
   ],
   "source": [
    "# Expected value of next state\n",
    "next_state_expected(x, u, w)"
   ]
  },
  {
   "cell_type": "code",
   "execution_count": 9,
   "metadata": {},
   "outputs": [
    {
     "data": {
      "text/plain": [
       "0.2417303374571288"
      ]
     },
     "execution_count": 9,
     "metadata": {},
     "output_type": "execute_result"
    }
   ],
   "source": [
    "# Exercise 8.2\n",
    "# Probability of x(t+1) being in a range\n",
    "# given, x(t), u(t)\n",
    "\n",
    "dx = [-0.5, 0.5]\n",
    "x = 0\n",
    "u = 1\n",
    "w = norm()\n",
    "next_state_probability(x, u, w, dx)"
   ]
  },
  {
   "cell_type": "code",
   "execution_count": 10,
   "metadata": {},
   "outputs": [
    {
     "data": {
      "image/png": "[encoded data removed]",
      "text/plain": [
       "<Figure size 432x288 with 1 Axes>"
      ]
     },
     "metadata": {
      "needs_background": "light"
     },
     "output_type": "display_data"
    }
   ],
   "source": [
    "x_k = np.linspace(-1.5, 4.5, 7)\n",
    "labels = np.linspace(-1, 4, 6)\n",
    "p = [next_state_probability(x, u, w, [x_k[i], x_k[i+1]])\n",
    "     for i in range(x_k.shape[0] - 1)]\n",
    "plt.bar(labels, p)\n",
    "plt.title(\"Probability of $x_{t+1}$ given $x,u=(%.1f,%.1f)$\" % (x, u))\n",
    "plt.xlabel(\"$x_{t+1}$\")\n",
    "plt.ylabel(\"Probability\")\n",
    "plt.grid()"
   ]
  },
  {
   "cell_type": "code",
   "execution_count": 11,
   "metadata": {},
   "outputs": [],
   "source": [
    "# Simulation setup\n",
    "\n",
    "# Number of timesteps\n",
    "N = 10"
   ]
  },
  {
   "cell_type": "code",
   "execution_count": 12,
   "metadata": {},
   "outputs": [
    {
     "data": {
      "text/plain": [
       "[-1.0, -0.9, -0.8, -0.7, -0.6]"
      ]
     },
     "execution_count": 12,
     "metadata": {},
     "output_type": "execute_result"
    }
   ],
   "source": [
    "# Define discretized state and action spaces\n",
    "x_bounds = [-1, 1]\n",
    "n_states = 21\n",
    "states = np.linspace(x_bounds[0], x_bounds[1], n_states).round(1).tolist()\n",
    "states[:5]"
   ]
  },
  {
   "cell_type": "code",
   "execution_count": 13,
   "metadata": {},
   "outputs": [
    {
     "data": {
      "text/plain": [
       "[-1.0, -0.9, -0.8, -0.7, -0.6]"
      ]
     },
     "execution_count": 13,
     "metadata": {},
     "output_type": "execute_result"
    }
   ],
   "source": [
    "action_bounds = [-1, 1]\n",
    "n_actions = 21\n",
    "actions = np.linspace(action_bounds[0], action_bounds[1], n_states).round(1).tolist()\n",
    "actions[:5]"
   ]
  },
  {
   "cell_type": "code",
   "execution_count": 14,
   "metadata": {},
   "outputs": [
    {
     "data": {
      "image/png": "[encoded data removed]",
      "text/plain": [
       "<Figure size 432x288 with 1 Axes>"
      ]
     },
     "metadata": {
      "needs_background": "light"
     },
     "output_type": "display_data"
    }
   ],
   "source": [
    "# Calculate terminal state values\n",
    "terminal_state_values = {x: x**2 for x in states}\n",
    "\n",
    "pd.Series(terminal_state_values).plot.bar()\n",
    "plt.title(\"Terminal State Values\")\n",
    "plt.xlabel(\"dx\")\n",
    "plt.grid()\n",
    "plt.show()"
   ]
  },
  {
   "cell_type": "code",
   "execution_count": 15,
   "metadata": {},
   "outputs": [],
   "source": [
    "# Create discretized value function\n",
    "state_value_function = {round(x, 1): None for x in states}"
   ]
  },
  {
   "cell_type": "code",
   "execution_count": 16,
   "metadata": {},
   "outputs": [
    {
     "data": {
      "image/png": "[encoded data removed]",
      "text/plain": [
       "<Figure size 432x288 with 1 Axes>"
      ]
     },
     "metadata": {
      "needs_background": "light"
     },
     "output_type": "display_data"
    }
   ],
   "source": [
    "p_next_states = {}\n",
    "for next_state in states:\n",
    "    # Define interval of discrete state\n",
    "    dx = [next_state - 0.05, next_state + 0.05]\n",
    "    # Calculate probability of dx, given current x, u\n",
    "    p_next_states[next_state] = next_state_probability(x, u, w, dx)\n",
    "plt.bar(states, p_next_states.values())\n",
    "plt.title(\"Probability of $x_{t+1}$ given $x,u=(%.1f,%.1f)$\" % (x, u))\n",
    "plt.xlabel(\"$x_{t+1}$\")\n",
    "plt.ylabel(\"Probability\")\n",
    "plt.grid()"
   ]
  },
  {
   "cell_type": "code",
   "execution_count": 17,
   "metadata": {},
   "outputs": [
    {
     "data": {
      "text/plain": [
       "0.4997565904326682"
      ]
     },
     "execution_count": 17,
     "metadata": {},
     "output_type": "execute_result"
    }
   ],
   "source": [
    "sum(p_next_states.values())"
   ]
  },
  {
   "cell_type": "code",
   "execution_count": 18,
   "metadata": {},
   "outputs": [
    {
     "name": "stdout",
     "output_type": "stream",
     "text": [
      "  t     x\n",
      "  9, -1.0\n",
      "  9, -0.9\n",
      "  9, -0.8\n",
      "  9, -0.7\n",
      "  9, -0.6\n",
      "  9, -0.5\n",
      "  9, -0.4\n",
      "  9, -0.3\n",
      "  9, -0.2\n",
      "  9, -0.1\n",
      "  9, 0.0\n",
      "  9, 0.1\n",
      "  9, 0.2\n",
      "  9, 0.3\n",
      "  9, 0.4\n",
      "  9, 0.5\n",
      "  9, 0.6\n",
      "  9, 0.7\n",
      "  9, 0.8\n",
      "  9, 0.9\n",
      "  9, 1.0\n",
      "  8, -1.0\n",
      "  8, -0.9\n",
      "  8, -0.8\n",
      "  8, -0.7\n",
      "  8, -0.6\n",
      "  8, -0.5\n",
      "  8, -0.4\n",
      "  8, -0.3\n",
      "  8, -0.2\n",
      "  8, -0.1\n",
      "  8, 0.0\n",
      "  8, 0.1\n",
      "  8, 0.2\n",
      "  8, 0.3\n",
      "  8, 0.4\n",
      "  8, 0.5\n",
      "  8, 0.6\n",
      "  8, 0.7\n",
      "  8, 0.8\n",
      "  8, 0.9\n",
      "  8, 1.0\n",
      "  7, -1.0\n",
      "  7, -0.9\n",
      "  7, -0.8\n",
      "  7, -0.7\n",
      "  7, -0.6\n",
      "  7, -0.5\n",
      "  7, -0.4\n",
      "  7, -0.3\n",
      "  7, -0.2\n",
      "  7, -0.1\n",
      "  7, 0.0\n",
      "  7, 0.1\n",
      "  7, 0.2\n",
      "  7, 0.3\n",
      "  7, 0.4\n",
      "  7, 0.5\n",
      "  7, 0.6\n",
      "  7, 0.7\n",
      "  7, 0.8\n",
      "  7, 0.9\n",
      "  7, 1.0\n",
      "  6, -1.0\n",
      "  6, -0.9\n",
      "  6, -0.8\n",
      "  6, -0.7\n",
      "  6, -0.6\n",
      "  6, -0.5\n",
      "  6, -0.4\n",
      "  6, -0.3\n",
      "  6, -0.2\n",
      "  6, -0.1\n",
      "  6, 0.0\n",
      "  6, 0.1\n",
      "  6, 0.2\n",
      "  6, 0.3\n",
      "  6, 0.4\n",
      "  6, 0.5\n",
      "  6, 0.6\n",
      "  6, 0.7\n",
      "  6, 0.8\n",
      "  6, 0.9\n",
      "  6, 1.0\n",
      "  5, -1.0\n",
      "  5, -0.9\n",
      "  5, -0.8\n",
      "  5, -0.7\n",
      "  5, -0.6\n",
      "  5, -0.5\n",
      "  5, -0.4\n",
      "  5, -0.3\n",
      "  5, -0.2\n",
      "  5, -0.1\n",
      "  5, 0.0\n",
      "  5, 0.1\n",
      "  5, 0.2\n",
      "  5, 0.3\n",
      "  5, 0.4\n",
      "  5, 0.5\n",
      "  5, 0.6\n",
      "  5, 0.7\n",
      "  5, 0.8\n",
      "  5, 0.9\n",
      "  5, 1.0\n",
      "  4, -1.0\n",
      "  4, -0.9\n",
      "  4, -0.8\n",
      "  4, -0.7\n",
      "  4, -0.6\n",
      "  4, -0.5\n",
      "  4, -0.4\n",
      "  4, -0.3\n",
      "  4, -0.2\n",
      "  4, -0.1\n",
      "  4, 0.0\n",
      "  4, 0.1\n",
      "  4, 0.2\n",
      "  4, 0.3\n",
      "  4, 0.4\n",
      "  4, 0.5\n",
      "  4, 0.6\n",
      "  4, 0.7\n",
      "  4, 0.8\n",
      "  4, 0.9\n",
      "  4, 1.0\n",
      "  3, -1.0\n",
      "  3, -0.9\n",
      "  3, -0.8\n",
      "  3, -0.7\n",
      "  3, -0.6\n",
      "  3, -0.5\n",
      "  3, -0.4\n",
      "  3, -0.3\n",
      "  3, -0.2\n",
      "  3, -0.1\n",
      "  3, 0.0\n",
      "  3, 0.1\n",
      "  3, 0.2\n",
      "  3, 0.3\n",
      "  3, 0.4\n",
      "  3, 0.5\n",
      "  3, 0.6\n",
      "  3, 0.7\n",
      "  3, 0.8\n",
      "  3, 0.9\n",
      "  3, 1.0\n",
      "  2, -1.0\n",
      "  2, -0.9\n",
      "  2, -0.8\n",
      "  2, -0.7\n",
      "  2, -0.6\n",
      "  2, -0.5\n",
      "  2, -0.4\n",
      "  2, -0.3\n",
      "  2, -0.2\n",
      "  2, -0.1\n",
      "  2, 0.0\n",
      "  2, 0.1\n",
      "  2, 0.2\n",
      "  2, 0.3\n",
      "  2, 0.4\n",
      "  2, 0.5\n",
      "  2, 0.6\n",
      "  2, 0.7\n",
      "  2, 0.8\n",
      "  2, 0.9\n",
      "  2, 1.0\n",
      "  1, -1.0\n",
      "  1, -0.9\n",
      "  1, -0.8\n",
      "  1, -0.7\n",
      "  1, -0.6\n",
      "  1, -0.5\n",
      "  1, -0.4\n",
      "  1, -0.3\n",
      "  1, -0.2\n",
      "  1, -0.1\n",
      "  1, 0.0\n",
      "  1, 0.1\n",
      "  1, 0.2\n",
      "  1, 0.3\n",
      "  1, 0.4\n",
      "  1, 0.5\n",
      "  1, 0.6\n",
      "  1, 0.7\n",
      "  1, 0.8\n",
      "  1, 0.9\n",
      "  1, 1.0\n",
      "  0, -1.0\n",
      "  0, -0.9\n",
      "  0, -0.8\n",
      "  0, -0.7\n",
      "  0, -0.6\n",
      "  0, -0.5\n",
      "  0, -0.4\n",
      "  0, -0.3\n",
      "  0, -0.2\n",
      "  0, -0.1\n",
      "  0, 0.0\n",
      "  0, 0.1\n",
      "  0, 0.2\n",
      "  0, 0.3\n",
      "  0, 0.4\n",
      "  0, 0.5\n",
      "  0, 0.6\n",
      "  0, 0.7\n",
      "  0, 0.8\n",
      "  0, 0.9\n",
      "  0, 1.0\n"
     ]
    }
   ],
   "source": [
    "# Compute all state values recursively\n",
    "print(\"  t     x\")\n",
    "for t in range(N-1, -1, -1):\n",
    "    for x in states:\n",
    "        print(f\"{t:3d}, {x:.1f}\")\n",
    "        for u in actions:\n",
    "            p_next_states = {}\n",
    "            for next_state in states:\n",
    "                # Define interval of discrete state\n",
    "                dx = [next_state - 0.05, next_state + 0.05]\n",
    "                # Calculate probability of dx, given current x, u\n",
    "                p_next_states[next_state] = next_state_probability(x, u, w, dx)\n",
    "            cost_to_go = sum(p_next_states.values())\n",
    "            state_value_function[x] = terminal_state_values[x] + cost_to_go\n",
    "    "
   ]
  },
  {
   "cell_type": "code",
   "execution_count": 19,
   "metadata": {},
   "outputs": [
    {
     "data": {
      "text/plain": [
       "{-1.0: 1.706281887248208,\n",
       " -0.9: 1.5138719380543681,\n",
       " -0.8: 1.3366876832104526,\n",
       " -0.7: 1.1748646561857299,\n",
       " -0.6: 1.0286246295844872,\n",
       " -0.5: 0.898269555209595,\n",
       " -0.4: 0.7841733116784322,\n",
       " -0.3: 0.6867714943118023,\n",
       " -0.2: 0.6065495508873103,\n",
       " -0.1: 0.5440296328486042,\n",
       " 0.0: 0.4997565904326682,\n",
       " 0.1: 0.47428358677053706,\n",
       " 0.2: 0.46815783497471297,\n",
       " 0.3: 0.4819069687822378,\n",
       " 0.4: 0.5160265380891096,\n",
       " 0.5: 0.5709690743338534,\n",
       " 0.6: 0.6471350982455881,\n",
       " 0.7: 0.7448663475708102,\n",
       " 0.8: 0.8644413909219552,\n",
       " 0.9: 1.0060736734753277,\n",
       " 1.0: 1.1699119194774592}"
      ]
     },
     "execution_count": 19,
     "metadata": {},
     "output_type": "execute_result"
    }
   ],
   "source": [
    "state_value_function"
   ]
  },
  {
   "cell_type": "code",
   "execution_count": 20,
   "metadata": {},
   "outputs": [
    {
     "data": {
      "image/png": "[encoded data removed]",
      "text/plain": [
       "<Figure size 432x288 with 1 Axes>"
      ]
     },
     "metadata": {
      "needs_background": "light"
     },
     "output_type": "display_data"
    }
   ],
   "source": [
    "pd.Series(state_value_function).plot.bar()\n",
    "plt.title(\"Approximate State Values\")\n",
    "plt.xlabel(\"$dx$\")\n",
    "plt.ylabel(\"$V(dx)$\")\n",
    "plt.grid()\n",
    "plt.show()"
   ]
  },
  {
   "cell_type": "code",
   "execution_count": null,
   "metadata": {},
   "outputs": [],
   "source": []
  },
  {
   "cell_type": "code",
   "execution_count": null,
   "metadata": {},
   "outputs": [],
   "source": []
  },
  {
   "cell_type": "code",
   "execution_count": null,
   "metadata": {},
   "outputs": [],
   "source": []
  }
 ],
 "metadata": {
  "kernelspec": {
   "display_name": "Python [conda env:torch]",
   "language": "python",
   "name": "conda-env-torch-py"
  },
  "language_info": {
   "codemirror_mode": {
    "name": "ipython",
    "version": 3
   },
   "file_extension": ".py",
   "mimetype": "text/x-python",
   "name": "python",
   "nbconvert_exporter": "python",
   "pygments_lexer": "ipython3",
   "version": "3.7.6"
  }
 },
 "nbformat": 4,
 "nbformat_minor": 2
}
