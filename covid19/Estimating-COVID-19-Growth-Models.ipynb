{
 "cells": [
  {
   "cell_type": "markdown",
   "metadata": {},
   "source": [
    "# Estimate a Linear Model for COVID-19 Growth in BC\n",
    "\n",
    "Data from: https://github.com/CSSEGISandData/COVID-19/blob/master/csse_covid_19_data/csse_covid_19_time_series/time_series_19-covid-Confirmed.csv\n"
   ]
  },
  {
   "cell_type": "code",
   "execution_count": 1,
   "metadata": {},
   "outputs": [],
   "source": [
    "import numpy as np\n",
    "import pandas as pd\n",
    "import matplotlib.pyplot as plt\n",
    "\n",
    "%matplotlib inline"
   ]
  },
  {
   "cell_type": "code",
   "execution_count": 2,
   "metadata": {},
   "outputs": [
    {
     "data": {
      "text/plain": [
       "(487, 61)"
      ]
     },
     "execution_count": 2,
     "metadata": {},
     "output_type": "execute_result"
    }
   ],
   "source": [
    "site_url = \"https://raw.githubusercontent.com/CSSEGISandData/COVID-19/master/\"\n",
    "data_dir = \"csse_covid_19_data/csse_covid_19_time_series/\"\n",
    "filename = \"time_series_19-covid-Confirmed.csv\"\n",
    "\n",
    "url = site_url + data_dir + filename\n",
    "df = pd.read_csv(url, index_col=['Province/State', 'Country/Region'])\n",
    "\n",
    "# Remove the Lat/Long data\n",
    "lat_long = df[['Lat', 'Long']]\n",
    "df = df.drop(['Lat', 'Long'], axis=1)\n",
    "\n",
    "# Change remaining column labels to dates\n",
    "df.columns = pd.to_datetime(df.columns)\n",
    "\n",
    "# Swap index levels so country is first\n",
    "df = df.swaplevel(0, 1)\n",
    "\n",
    "df.shape"
   ]
  },
  {
   "cell_type": "code",
   "execution_count": 3,
   "metadata": {},
   "outputs": [
    {
     "data": {
      "text/html": [
       "<div>\n",
       "<style scoped>\n",
       "    .dataframe tbody tr th:only-of-type {\n",
       "        vertical-align: middle;\n",
       "    }\n",
       "\n",
       "    .dataframe tbody tr th {\n",
       "        vertical-align: top;\n",
       "    }\n",
       "\n",
       "    .dataframe thead th {\n",
       "        text-align: right;\n",
       "    }\n",
       "</style>\n",
       "<table border=\"1\" class=\"dataframe\">\n",
       "  <thead>\n",
       "    <tr style=\"text-align: right;\">\n",
       "      <th></th>\n",
       "      <th></th>\n",
       "      <th>2020-01-22</th>\n",
       "      <th>2020-01-23</th>\n",
       "      <th>2020-01-24</th>\n",
       "      <th>2020-01-25</th>\n",
       "      <th>2020-01-26</th>\n",
       "      <th>2020-01-27</th>\n",
       "      <th>2020-01-28</th>\n",
       "      <th>2020-01-29</th>\n",
       "      <th>2020-01-30</th>\n",
       "      <th>2020-01-31</th>\n",
       "      <th>...</th>\n",
       "      <th>2020-03-13</th>\n",
       "      <th>2020-03-14</th>\n",
       "      <th>2020-03-15</th>\n",
       "      <th>2020-03-16</th>\n",
       "      <th>2020-03-17</th>\n",
       "      <th>2020-03-18</th>\n",
       "      <th>2020-03-19</th>\n",
       "      <th>2020-03-20</th>\n",
       "      <th>2020-03-21</th>\n",
       "      <th>2020-03-22</th>\n",
       "    </tr>\n",
       "    <tr>\n",
       "      <th>Country/Region</th>\n",
       "      <th>Province/State</th>\n",
       "      <th></th>\n",
       "      <th></th>\n",
       "      <th></th>\n",
       "      <th></th>\n",
       "      <th></th>\n",
       "      <th></th>\n",
       "      <th></th>\n",
       "      <th></th>\n",
       "      <th></th>\n",
       "      <th></th>\n",
       "      <th></th>\n",
       "      <th></th>\n",
       "      <th></th>\n",
       "      <th></th>\n",
       "      <th></th>\n",
       "      <th></th>\n",
       "      <th></th>\n",
       "      <th></th>\n",
       "      <th></th>\n",
       "      <th></th>\n",
       "      <th></th>\n",
       "    </tr>\n",
       "  </thead>\n",
       "  <tbody>\n",
       "    <tr>\n",
       "      <th>Thailand</th>\n",
       "      <th>NaN</th>\n",
       "      <td>2</td>\n",
       "      <td>3</td>\n",
       "      <td>5</td>\n",
       "      <td>7</td>\n",
       "      <td>8</td>\n",
       "      <td>8</td>\n",
       "      <td>14</td>\n",
       "      <td>14</td>\n",
       "      <td>14</td>\n",
       "      <td>19</td>\n",
       "      <td>...</td>\n",
       "      <td>75</td>\n",
       "      <td>82</td>\n",
       "      <td>114</td>\n",
       "      <td>147</td>\n",
       "      <td>177</td>\n",
       "      <td>212</td>\n",
       "      <td>272</td>\n",
       "      <td>322</td>\n",
       "      <td>411</td>\n",
       "      <td>599</td>\n",
       "    </tr>\n",
       "    <tr>\n",
       "      <th>Japan</th>\n",
       "      <th>NaN</th>\n",
       "      <td>2</td>\n",
       "      <td>1</td>\n",
       "      <td>2</td>\n",
       "      <td>2</td>\n",
       "      <td>4</td>\n",
       "      <td>4</td>\n",
       "      <td>7</td>\n",
       "      <td>7</td>\n",
       "      <td>11</td>\n",
       "      <td>15</td>\n",
       "      <td>...</td>\n",
       "      <td>701</td>\n",
       "      <td>773</td>\n",
       "      <td>839</td>\n",
       "      <td>825</td>\n",
       "      <td>878</td>\n",
       "      <td>889</td>\n",
       "      <td>924</td>\n",
       "      <td>963</td>\n",
       "      <td>1007</td>\n",
       "      <td>1086</td>\n",
       "    </tr>\n",
       "    <tr>\n",
       "      <th>Singapore</th>\n",
       "      <th>NaN</th>\n",
       "      <td>0</td>\n",
       "      <td>1</td>\n",
       "      <td>3</td>\n",
       "      <td>3</td>\n",
       "      <td>4</td>\n",
       "      <td>5</td>\n",
       "      <td>7</td>\n",
       "      <td>7</td>\n",
       "      <td>10</td>\n",
       "      <td>13</td>\n",
       "      <td>...</td>\n",
       "      <td>200</td>\n",
       "      <td>212</td>\n",
       "      <td>226</td>\n",
       "      <td>243</td>\n",
       "      <td>266</td>\n",
       "      <td>313</td>\n",
       "      <td>345</td>\n",
       "      <td>385</td>\n",
       "      <td>432</td>\n",
       "      <td>455</td>\n",
       "    </tr>\n",
       "    <tr>\n",
       "      <th>Nepal</th>\n",
       "      <th>NaN</th>\n",
       "      <td>0</td>\n",
       "      <td>0</td>\n",
       "      <td>0</td>\n",
       "      <td>1</td>\n",
       "      <td>1</td>\n",
       "      <td>1</td>\n",
       "      <td>1</td>\n",
       "      <td>1</td>\n",
       "      <td>1</td>\n",
       "      <td>1</td>\n",
       "      <td>...</td>\n",
       "      <td>1</td>\n",
       "      <td>1</td>\n",
       "      <td>1</td>\n",
       "      <td>1</td>\n",
       "      <td>1</td>\n",
       "      <td>1</td>\n",
       "      <td>1</td>\n",
       "      <td>1</td>\n",
       "      <td>1</td>\n",
       "      <td>2</td>\n",
       "    </tr>\n",
       "    <tr>\n",
       "      <th>Malaysia</th>\n",
       "      <th>NaN</th>\n",
       "      <td>0</td>\n",
       "      <td>0</td>\n",
       "      <td>0</td>\n",
       "      <td>3</td>\n",
       "      <td>4</td>\n",
       "      <td>4</td>\n",
       "      <td>4</td>\n",
       "      <td>7</td>\n",
       "      <td>8</td>\n",
       "      <td>8</td>\n",
       "      <td>...</td>\n",
       "      <td>197</td>\n",
       "      <td>238</td>\n",
       "      <td>428</td>\n",
       "      <td>566</td>\n",
       "      <td>673</td>\n",
       "      <td>790</td>\n",
       "      <td>900</td>\n",
       "      <td>1030</td>\n",
       "      <td>1183</td>\n",
       "      <td>1306</td>\n",
       "    </tr>\n",
       "  </tbody>\n",
       "</table>\n",
       "<p>5 rows × 61 columns</p>\n",
       "</div>"
      ],
      "text/plain": [
       "                               2020-01-22  2020-01-23  2020-01-24  2020-01-25  \\\n",
       "Country/Region Province/State                                                   \n",
       "Thailand       NaN                      2           3           5           7   \n",
       "Japan          NaN                      2           1           2           2   \n",
       "Singapore      NaN                      0           1           3           3   \n",
       "Nepal          NaN                      0           0           0           1   \n",
       "Malaysia       NaN                      0           0           0           3   \n",
       "\n",
       "                               2020-01-26  2020-01-27  2020-01-28  2020-01-29  \\\n",
       "Country/Region Province/State                                                   \n",
       "Thailand       NaN                      8           8          14          14   \n",
       "Japan          NaN                      4           4           7           7   \n",
       "Singapore      NaN                      4           5           7           7   \n",
       "Nepal          NaN                      1           1           1           1   \n",
       "Malaysia       NaN                      4           4           4           7   \n",
       "\n",
       "                               2020-01-30  2020-01-31  ...  2020-03-13  \\\n",
       "Country/Region Province/State                          ...               \n",
       "Thailand       NaN                     14          19  ...          75   \n",
       "Japan          NaN                     11          15  ...         701   \n",
       "Singapore      NaN                     10          13  ...         200   \n",
       "Nepal          NaN                      1           1  ...           1   \n",
       "Malaysia       NaN                      8           8  ...         197   \n",
       "\n",
       "                               2020-03-14  2020-03-15  2020-03-16  2020-03-17  \\\n",
       "Country/Region Province/State                                                   \n",
       "Thailand       NaN                     82         114         147         177   \n",
       "Japan          NaN                    773         839         825         878   \n",
       "Singapore      NaN                    212         226         243         266   \n",
       "Nepal          NaN                      1           1           1           1   \n",
       "Malaysia       NaN                    238         428         566         673   \n",
       "\n",
       "                               2020-03-18  2020-03-19  2020-03-20  2020-03-21  \\\n",
       "Country/Region Province/State                                                   \n",
       "Thailand       NaN                    212         272         322         411   \n",
       "Japan          NaN                    889         924         963        1007   \n",
       "Singapore      NaN                    313         345         385         432   \n",
       "Nepal          NaN                      1           1           1           1   \n",
       "Malaysia       NaN                    790         900        1030        1183   \n",
       "\n",
       "                               2020-03-22  \n",
       "Country/Region Province/State              \n",
       "Thailand       NaN                    599  \n",
       "Japan          NaN                   1086  \n",
       "Singapore      NaN                    455  \n",
       "Nepal          NaN                      2  \n",
       "Malaysia       NaN                   1306  \n",
       "\n",
       "[5 rows x 61 columns]"
      ]
     },
     "execution_count": 3,
     "metadata": {},
     "output_type": "execute_result"
    }
   ],
   "source": [
    "df.head()"
   ]
  },
  {
   "cell_type": "markdown",
   "metadata": {},
   "source": [
    "## Select Data for One Country"
   ]
  },
  {
   "cell_type": "code",
   "execution_count": 4,
   "metadata": {},
   "outputs": [
    {
     "data": {
      "image/png": "[encoded data removed]",
      "text/plain": [
       "<Figure size 432x288 with 1 Axes>"
      ]
     },
     "metadata": {
      "needs_background": "light"
     },
     "output_type": "display_data"
    }
   ],
   "source": [
    "country = \"Canada\"\n",
    "country_data = df.loc[country]\n",
    "country_data.T.plot(style='.-')\n",
    "plt.grid()\n",
    "plt.ylabel(\"Number of cases\")\n",
    "plt.title(f\"Confirmed Covid-19 Cases in {country}\")\n",
    "plt.show()"
   ]
  },
  {
   "cell_type": "markdown",
   "metadata": {},
   "source": [
    "## Select Data for One Province/State"
   ]
  },
  {
   "cell_type": "code",
   "execution_count": 5,
   "metadata": {},
   "outputs": [
    {
     "data": {
      "image/png": "[encoded data removed]",
      "text/plain": [
       "<Figure size 432x288 with 1 Axes>"
      ]
     },
     "metadata": {
      "needs_background": "light"
     },
     "output_type": "display_data"
    }
   ],
   "source": [
    "province = \"British Columbia\"\n",
    "prov_data = df.loc[(country, province)]\n",
    "prov_data.plot(style='.-')\n",
    "plt.ylabel(\"Number of cases\")\n",
    "plt.grid()\n",
    "plt.title(f\"Confirmed Covid-19 Cases in {province}\")\n",
    "plt.show()"
   ]
  },
  {
   "cell_type": "markdown",
   "metadata": {},
   "source": [
    "## Approach 1 - Fit a linear model using least squares"
   ]
  },
  {
   "cell_type": "code",
   "execution_count": 6,
   "metadata": {},
   "outputs": [
    {
     "data": {
      "text/plain": [
       "2020-01-22    0\n",
       "2020-01-23    0\n",
       "2020-01-24    0\n",
       "2020-01-25    0\n",
       "2020-01-26    0\n",
       "Name: (Canada, British Columbia), dtype: int64"
      ]
     },
     "execution_count": 6,
     "metadata": {},
     "output_type": "execute_result"
    }
   ],
   "source": [
    "prov_data.head()"
   ]
  },
  {
   "cell_type": "code",
   "execution_count": 7,
   "metadata": {},
   "outputs": [
    {
     "name": "stdout",
     "output_type": "stream",
     "text": [
      "21 data points\n"
     ]
    }
   ],
   "source": [
    "# Choose start date for estimation data\n",
    "start_date = '2020-03-01'\n",
    "data = prov_data.loc[start_date:].values.reshape(-1, 1)\n",
    "index = prov_data.loc[start_date:].index[1:]\n",
    "\n",
    "# Prepare input and output data matrices\n",
    "M = data[:-1]\n",
    "y = data[1:]\n",
    "n = len(y)\n",
    "assert M.shape == (n, 1)\n",
    "assert y.shape == (n, 1)\n",
    "print(f\"{n} data points\")"
   ]
  },
  {
   "cell_type": "code",
   "execution_count": 8,
   "metadata": {},
   "outputs": [
    {
     "data": {
      "text/html": [
       "<div>\n",
       "<style scoped>\n",
       "    .dataframe tbody tr th:only-of-type {\n",
       "        vertical-align: middle;\n",
       "    }\n",
       "\n",
       "    .dataframe tbody tr th {\n",
       "        vertical-align: top;\n",
       "    }\n",
       "\n",
       "    .dataframe thead th {\n",
       "        text-align: right;\n",
       "    }\n",
       "</style>\n",
       "<table border=\"1\" class=\"dataframe\">\n",
       "  <thead>\n",
       "    <tr style=\"text-align: right;\">\n",
       "      <th></th>\n",
       "      <th>M</th>\n",
       "      <th>y</th>\n",
       "      <th>y/M</th>\n",
       "    </tr>\n",
       "  </thead>\n",
       "  <tbody>\n",
       "    <tr>\n",
       "      <th>2020-03-02</th>\n",
       "      <td>8</td>\n",
       "      <td>8</td>\n",
       "      <td>1.000000</td>\n",
       "    </tr>\n",
       "    <tr>\n",
       "      <th>2020-03-03</th>\n",
       "      <td>8</td>\n",
       "      <td>9</td>\n",
       "      <td>1.125000</td>\n",
       "    </tr>\n",
       "    <tr>\n",
       "      <th>2020-03-04</th>\n",
       "      <td>9</td>\n",
       "      <td>12</td>\n",
       "      <td>1.333333</td>\n",
       "    </tr>\n",
       "    <tr>\n",
       "      <th>2020-03-05</th>\n",
       "      <td>12</td>\n",
       "      <td>13</td>\n",
       "      <td>1.083333</td>\n",
       "    </tr>\n",
       "    <tr>\n",
       "      <th>2020-03-06</th>\n",
       "      <td>13</td>\n",
       "      <td>21</td>\n",
       "      <td>1.615385</td>\n",
       "    </tr>\n",
       "  </tbody>\n",
       "</table>\n",
       "</div>"
      ],
      "text/plain": [
       "             M   y       y/M\n",
       "2020-03-02   8   8  1.000000\n",
       "2020-03-03   8   9  1.125000\n",
       "2020-03-04   9  12  1.333333\n",
       "2020-03-05  12  13  1.083333\n",
       "2020-03-06  13  21  1.615385"
      ]
     },
     "execution_count": 8,
     "metadata": {},
     "output_type": "execute_result"
    }
   ],
   "source": [
    "pd.DataFrame({\n",
    "    'M': M.reshape(-1),\n",
    "    'y': y.reshape(-1),\n",
    "    'y/M': (y/M).reshape(-1)\n",
    "}, index=index).head()"
   ]
  },
  {
   "cell_type": "code",
   "execution_count": 9,
   "metadata": {},
   "outputs": [
    {
     "data": {
      "text/plain": [
       "array([[1.18795719]])"
      ]
     },
     "execution_count": 9,
     "metadata": {},
     "output_type": "execute_result"
    }
   ],
   "source": [
    "# Compute parameter vector using least squares\n",
    "# ('@' is matrix multiplication operator in Python > 3.4)\n",
    "a = np.linalg.inv(M.T @ M) @ M.T @ y\n",
    "a"
   ]
  },
  {
   "cell_type": "code",
   "execution_count": 10,
   "metadata": {},
   "outputs": [
    {
     "data": {
      "text/plain": [
       "-80.12050368617602"
      ]
     },
     "execution_count": 10,
     "metadata": {},
     "output_type": "execute_result"
    }
   ],
   "source": [
    "# Sum of residuals - should be close to zero\n",
    "np.sum(M*a - y)"
   ]
  },
  {
   "cell_type": "code",
   "execution_count": 11,
   "metadata": {},
   "outputs": [
    {
     "data": {
      "image/png": "[encoded data removed]",
      "text/plain": [
       "<Figure size 432x288 with 1 Axes>"
      ]
     },
     "metadata": {
      "needs_background": "light"
     },
     "output_type": "display_data"
    }
   ],
   "source": [
    "plt.plot(M*a - y)\n",
    "plt.title('Residual Errors')\n",
    "plt.grid()"
   ]
  },
  {
   "cell_type": "code",
   "execution_count": 12,
   "metadata": {},
   "outputs": [],
   "source": [
    "# WARNING: Residuals are not evenly distributed!"
   ]
  },
  {
   "cell_type": "code",
   "execution_count": 13,
   "metadata": {},
   "outputs": [
    {
     "data": {
      "text/plain": [
       "1043.1232266998547"
      ]
     },
     "execution_count": 13,
     "metadata": {},
     "output_type": "execute_result"
    }
   ],
   "source": [
    "# MSE\n",
    "np.mean((M*a - y)**2)"
   ]
  },
  {
   "cell_type": "code",
   "execution_count": 14,
   "metadata": {},
   "outputs": [
    {
     "data": {
      "text/plain": [
       "2612.822399845856"
      ]
     },
     "execution_count": 14,
     "metadata": {},
     "output_type": "execute_result"
    }
   ],
   "source": [
    "# Choose prediction horizon\n",
    "end_date = '2020-03-31'\n",
    "n_pred = (pd.Timestamp(end_date) - pd.Timestamp(start_date)).days\n",
    "\n",
    "# Make predictions with model\n",
    "x = np.zeros((1, n_pred + 1))\n",
    "x[:, 0] = M[0]\n",
    "for k in range(1, n_pred + 1):\n",
    "    x[:, k] = a*x[:, k-1]\n",
    "\n",
    "pred_index = pd.Index(pd.date_range(start_date, end_date))\n",
    "predictions = pd.Series(x.reshape(-1,), index=pred_index)\n",
    "\n",
    "# MSE of predictions (they are very sensitive to initial x)\n",
    "np.mean((x[:, 1:n+1].T - M*a)**2)"
   ]
  },
  {
   "cell_type": "code",
   "execution_count": 15,
   "metadata": {},
   "outputs": [
    {
     "data": {
      "image/png": "[encoded data removed]",
      "text/plain": [
       "<Figure size 432x288 with 1 Axes>"
      ]
     },
     "metadata": {
      "needs_background": "light"
     },
     "output_type": "display_data"
    }
   ],
   "source": [
    "prov_data.loc[start_date:].plot(style='.', label='observed data')\n",
    "predictions.plot(style='-', label='prediction')\n",
    "plt.ylabel(\"Number of cases\")\n",
    "plt.grid()\n",
    "plt.title(f\"Confirmed Covid-19 Cases in {province}\")\n",
    "plt.tight_layout()\n",
    "plt.savefig('covid_growth_bc.png')\n",
    "plt.show()"
   ]
  },
  {
   "cell_type": "code",
   "execution_count": 16,
   "metadata": {},
   "outputs": [
    {
     "data": {
      "text/plain": [
       "2020-03-27     704.547902\n",
       "2020-03-28     836.972745\n",
       "2020-03-29     994.287789\n",
       "2020-03-30    1181.171326\n",
       "2020-03-31    1403.180968\n",
       "Freq: D, dtype: float64"
      ]
     },
     "execution_count": 16,
     "metadata": {},
     "output_type": "execute_result"
    }
   ],
   "source": [
    "predictions.tail()"
   ]
  },
  {
   "cell_type": "code",
   "execution_count": 17,
   "metadata": {},
   "outputs": [
    {
     "data": {
      "image/png": "[encoded data removed]",
      "text/plain": [
       "<Figure size 432x288 with 1 Axes>"
      ]
     },
     "metadata": {
      "needs_background": "light"
     },
     "output_type": "display_data"
    }
   ],
   "source": [
    "prov_data.loc[start_date:].plot(style='.', label='observed data')\n",
    "predictions.plot(style='-', label='prediction')\n",
    "plt.ylabel(\"Number of cases\")\n",
    "plt.yscale('log')\n",
    "plt.grid()\n",
    "plt.title(f\"Confirmed Covid-19 Cases in {province}\")\n",
    "plt.tight_layout()\n",
    "plt.savefig('covid_growth_bc_log.png')\n",
    "plt.show()"
   ]
  },
  {
   "cell_type": "code",
   "execution_count": 18,
   "metadata": {},
   "outputs": [],
   "source": [
    "# Not a good fit - model is biased..."
   ]
  },
  {
   "cell_type": "markdown",
   "metadata": {},
   "source": [
    "## Approach 2 - Fit a linear model to the log of observations"
   ]
  },
  {
   "cell_type": "code",
   "execution_count": null,
   "metadata": {},
   "outputs": [],
   "source": []
  }
 ],
 "metadata": {
  "kernelspec": {
   "display_name": "Python [conda env:torch]",
   "language": "python",
   "name": "conda-env-torch-py"
  },
  "language_info": {
   "codemirror_mode": {
    "name": "ipython",
    "version": 3
   },
   "file_extension": ".py",
   "mimetype": "text/x-python",
   "name": "python",
   "nbconvert_exporter": "python",
   "pygments_lexer": "ipython3",
   "version": "3.7.6"
  }
 },
 "nbformat": 4,
 "nbformat_minor": 2
}
