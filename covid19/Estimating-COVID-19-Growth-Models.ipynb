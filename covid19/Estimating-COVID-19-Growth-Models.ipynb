{
 "cells": [
  {
   "cell_type": "markdown",
   "metadata": {},
   "source": [
    "# Estimate a Linear Model for COVID-19 Growth in BC\n",
    "\n",
    "Data from: https://github.com/CSSEGISandData/COVID-19/blob/master/csse_covid_19_data/csse_covid_19_time_series/time_series_19-covid-Confirmed.csv\n"
   ]
  },
  {
   "cell_type": "code",
   "execution_count": 1,
   "metadata": {},
   "outputs": [],
   "source": [
    "import numpy as np\n",
    "import pandas as pd\n",
    "import matplotlib.pyplot as plt\n",
    "from scipy.optimize import minimize\n",
    "\n",
    "%matplotlib inline"
   ]
  },
  {
   "cell_type": "markdown",
   "metadata": {},
   "source": [
    "## Download Data"
   ]
  },
  {
   "cell_type": "code",
   "execution_count": 2,
   "metadata": {},
   "outputs": [
    {
     "data": {
      "text/plain": [
       "(501, 62)"
      ]
     },
     "execution_count": 2,
     "metadata": {},
     "output_type": "execute_result"
    }
   ],
   "source": [
    "site_url = \"https://raw.githubusercontent.com/CSSEGISandData/COVID-19/master/\"\n",
    "data_dir = \"csse_covid_19_data/csse_covid_19_time_series/\"\n",
    "filename = \"time_series_19-covid-Confirmed.csv\"\n",
    "\n",
    "url = site_url + data_dir + filename\n",
    "df = pd.read_csv(url, index_col=['Province/State', 'Country/Region'])\n",
    "\n",
    "# Remove the Lat/Long data\n",
    "lat_long = df[['Lat', 'Long']]\n",
    "df = df.drop(['Lat', 'Long'], axis=1)\n",
    "\n",
    "# Change remaining column labels to dates\n",
    "df.columns = pd.to_datetime(df.columns)\n",
    "\n",
    "# Swap index levels so country is first\n",
    "df = df.swaplevel(0, 1)\n",
    "\n",
    "df.shape"
   ]
  },
  {
   "cell_type": "code",
   "execution_count": 3,
   "metadata": {},
   "outputs": [
    {
     "data": {
      "text/html": [
       "<div>\n",
       "<style scoped>\n",
       "    .dataframe tbody tr th:only-of-type {\n",
       "        vertical-align: middle;\n",
       "    }\n",
       "\n",
       "    .dataframe tbody tr th {\n",
       "        vertical-align: top;\n",
       "    }\n",
       "\n",
       "    .dataframe thead th {\n",
       "        text-align: right;\n",
       "    }\n",
       "</style>\n",
       "<table border=\"1\" class=\"dataframe\">\n",
       "  <thead>\n",
       "    <tr style=\"text-align: right;\">\n",
       "      <th></th>\n",
       "      <th></th>\n",
       "      <th>2020-01-22</th>\n",
       "      <th>2020-01-23</th>\n",
       "      <th>2020-01-24</th>\n",
       "      <th>2020-01-25</th>\n",
       "      <th>2020-01-26</th>\n",
       "      <th>2020-01-27</th>\n",
       "      <th>2020-01-28</th>\n",
       "      <th>2020-01-29</th>\n",
       "      <th>2020-01-30</th>\n",
       "      <th>2020-01-31</th>\n",
       "      <th>...</th>\n",
       "      <th>2020-03-14</th>\n",
       "      <th>2020-03-15</th>\n",
       "      <th>2020-03-16</th>\n",
       "      <th>2020-03-17</th>\n",
       "      <th>2020-03-18</th>\n",
       "      <th>2020-03-19</th>\n",
       "      <th>2020-03-20</th>\n",
       "      <th>2020-03-21</th>\n",
       "      <th>2020-03-22</th>\n",
       "      <th>2020-03-23</th>\n",
       "    </tr>\n",
       "    <tr>\n",
       "      <th>Country/Region</th>\n",
       "      <th>Province/State</th>\n",
       "      <th></th>\n",
       "      <th></th>\n",
       "      <th></th>\n",
       "      <th></th>\n",
       "      <th></th>\n",
       "      <th></th>\n",
       "      <th></th>\n",
       "      <th></th>\n",
       "      <th></th>\n",
       "      <th></th>\n",
       "      <th></th>\n",
       "      <th></th>\n",
       "      <th></th>\n",
       "      <th></th>\n",
       "      <th></th>\n",
       "      <th></th>\n",
       "      <th></th>\n",
       "      <th></th>\n",
       "      <th></th>\n",
       "      <th></th>\n",
       "      <th></th>\n",
       "    </tr>\n",
       "  </thead>\n",
       "  <tbody>\n",
       "    <tr>\n",
       "      <th>Thailand</th>\n",
       "      <th>NaN</th>\n",
       "      <td>2</td>\n",
       "      <td>3</td>\n",
       "      <td>5</td>\n",
       "      <td>7</td>\n",
       "      <td>8</td>\n",
       "      <td>8</td>\n",
       "      <td>14</td>\n",
       "      <td>14</td>\n",
       "      <td>14</td>\n",
       "      <td>19</td>\n",
       "      <td>...</td>\n",
       "      <td>82</td>\n",
       "      <td>114</td>\n",
       "      <td>147</td>\n",
       "      <td>177</td>\n",
       "      <td>212</td>\n",
       "      <td>272</td>\n",
       "      <td>322</td>\n",
       "      <td>411</td>\n",
       "      <td>599</td>\n",
       "      <td>599.0</td>\n",
       "    </tr>\n",
       "    <tr>\n",
       "      <th>Japan</th>\n",
       "      <th>NaN</th>\n",
       "      <td>2</td>\n",
       "      <td>1</td>\n",
       "      <td>2</td>\n",
       "      <td>2</td>\n",
       "      <td>4</td>\n",
       "      <td>4</td>\n",
       "      <td>7</td>\n",
       "      <td>7</td>\n",
       "      <td>11</td>\n",
       "      <td>15</td>\n",
       "      <td>...</td>\n",
       "      <td>773</td>\n",
       "      <td>839</td>\n",
       "      <td>825</td>\n",
       "      <td>878</td>\n",
       "      <td>889</td>\n",
       "      <td>924</td>\n",
       "      <td>963</td>\n",
       "      <td>1007</td>\n",
       "      <td>1086</td>\n",
       "      <td>1086.0</td>\n",
       "    </tr>\n",
       "    <tr>\n",
       "      <th>Singapore</th>\n",
       "      <th>NaN</th>\n",
       "      <td>0</td>\n",
       "      <td>1</td>\n",
       "      <td>3</td>\n",
       "      <td>3</td>\n",
       "      <td>4</td>\n",
       "      <td>5</td>\n",
       "      <td>7</td>\n",
       "      <td>7</td>\n",
       "      <td>10</td>\n",
       "      <td>13</td>\n",
       "      <td>...</td>\n",
       "      <td>212</td>\n",
       "      <td>226</td>\n",
       "      <td>243</td>\n",
       "      <td>266</td>\n",
       "      <td>313</td>\n",
       "      <td>345</td>\n",
       "      <td>385</td>\n",
       "      <td>432</td>\n",
       "      <td>455</td>\n",
       "      <td>455.0</td>\n",
       "    </tr>\n",
       "    <tr>\n",
       "      <th>Nepal</th>\n",
       "      <th>NaN</th>\n",
       "      <td>0</td>\n",
       "      <td>0</td>\n",
       "      <td>0</td>\n",
       "      <td>1</td>\n",
       "      <td>1</td>\n",
       "      <td>1</td>\n",
       "      <td>1</td>\n",
       "      <td>1</td>\n",
       "      <td>1</td>\n",
       "      <td>1</td>\n",
       "      <td>...</td>\n",
       "      <td>1</td>\n",
       "      <td>1</td>\n",
       "      <td>1</td>\n",
       "      <td>1</td>\n",
       "      <td>1</td>\n",
       "      <td>1</td>\n",
       "      <td>1</td>\n",
       "      <td>1</td>\n",
       "      <td>2</td>\n",
       "      <td>2.0</td>\n",
       "    </tr>\n",
       "    <tr>\n",
       "      <th>Malaysia</th>\n",
       "      <th>NaN</th>\n",
       "      <td>0</td>\n",
       "      <td>0</td>\n",
       "      <td>0</td>\n",
       "      <td>3</td>\n",
       "      <td>4</td>\n",
       "      <td>4</td>\n",
       "      <td>4</td>\n",
       "      <td>7</td>\n",
       "      <td>8</td>\n",
       "      <td>8</td>\n",
       "      <td>...</td>\n",
       "      <td>238</td>\n",
       "      <td>428</td>\n",
       "      <td>566</td>\n",
       "      <td>673</td>\n",
       "      <td>790</td>\n",
       "      <td>900</td>\n",
       "      <td>1030</td>\n",
       "      <td>1183</td>\n",
       "      <td>1306</td>\n",
       "      <td>1306.0</td>\n",
       "    </tr>\n",
       "  </tbody>\n",
       "</table>\n",
       "<p>5 rows × 62 columns</p>\n",
       "</div>"
      ],
      "text/plain": [
       "                               2020-01-22  2020-01-23  2020-01-24  2020-01-25  \\\n",
       "Country/Region Province/State                                                   \n",
       "Thailand       NaN                      2           3           5           7   \n",
       "Japan          NaN                      2           1           2           2   \n",
       "Singapore      NaN                      0           1           3           3   \n",
       "Nepal          NaN                      0           0           0           1   \n",
       "Malaysia       NaN                      0           0           0           3   \n",
       "\n",
       "                               2020-01-26  2020-01-27  2020-01-28  2020-01-29  \\\n",
       "Country/Region Province/State                                                   \n",
       "Thailand       NaN                      8           8          14          14   \n",
       "Japan          NaN                      4           4           7           7   \n",
       "Singapore      NaN                      4           5           7           7   \n",
       "Nepal          NaN                      1           1           1           1   \n",
       "Malaysia       NaN                      4           4           4           7   \n",
       "\n",
       "                               2020-01-30  2020-01-31  ...  2020-03-14  \\\n",
       "Country/Region Province/State                          ...               \n",
       "Thailand       NaN                     14          19  ...          82   \n",
       "Japan          NaN                     11          15  ...         773   \n",
       "Singapore      NaN                     10          13  ...         212   \n",
       "Nepal          NaN                      1           1  ...           1   \n",
       "Malaysia       NaN                      8           8  ...         238   \n",
       "\n",
       "                               2020-03-15  2020-03-16  2020-03-17  2020-03-18  \\\n",
       "Country/Region Province/State                                                   \n",
       "Thailand       NaN                    114         147         177         212   \n",
       "Japan          NaN                    839         825         878         889   \n",
       "Singapore      NaN                    226         243         266         313   \n",
       "Nepal          NaN                      1           1           1           1   \n",
       "Malaysia       NaN                    428         566         673         790   \n",
       "\n",
       "                               2020-03-19  2020-03-20  2020-03-21  2020-03-22  \\\n",
       "Country/Region Province/State                                                   \n",
       "Thailand       NaN                    272         322         411         599   \n",
       "Japan          NaN                    924         963        1007        1086   \n",
       "Singapore      NaN                    345         385         432         455   \n",
       "Nepal          NaN                      1           1           1           2   \n",
       "Malaysia       NaN                    900        1030        1183        1306   \n",
       "\n",
       "                               2020-03-23  \n",
       "Country/Region Province/State              \n",
       "Thailand       NaN                  599.0  \n",
       "Japan          NaN                 1086.0  \n",
       "Singapore      NaN                  455.0  \n",
       "Nepal          NaN                    2.0  \n",
       "Malaysia       NaN                 1306.0  \n",
       "\n",
       "[5 rows x 62 columns]"
      ]
     },
     "execution_count": 3,
     "metadata": {},
     "output_type": "execute_result"
    }
   ],
   "source": [
    "df.head()"
   ]
  },
  {
   "cell_type": "markdown",
   "metadata": {},
   "source": [
    "## Select Data for One Country"
   ]
  },
  {
   "cell_type": "code",
   "execution_count": 4,
   "metadata": {},
   "outputs": [
    {
     "data": {
      "image/png": "[encoded data removed]",
      "text/plain": [
       "<Figure size 432x288 with 1 Axes>"
      ]
     },
     "metadata": {
      "needs_background": "light"
     },
     "output_type": "display_data"
    }
   ],
   "source": [
    "country = \"Canada\"\n",
    "country_data = df.loc[country]\n",
    "country_data.T.plot(style='.-')\n",
    "plt.grid()\n",
    "plt.ylabel(\"Number of cases\")\n",
    "plt.title(f\"Confirmed Covid-19 Cases in {country}\")\n",
    "plt.show()"
   ]
  },
  {
   "cell_type": "markdown",
   "metadata": {},
   "source": [
    "## Select Data for One Province/State"
   ]
  },
  {
   "cell_type": "code",
   "execution_count": 5,
   "metadata": {},
   "outputs": [
    {
     "data": {
      "image/png": "[encoded data removed]",
      "text/plain": [
       "<Figure size 432x288 with 1 Axes>"
      ]
     },
     "metadata": {
      "needs_background": "light"
     },
     "output_type": "display_data"
    }
   ],
   "source": [
    "province = \"British Columbia\"\n",
    "prov_data = df.loc[(country, province)]\n",
    "prov_data.plot(style='.-')\n",
    "plt.ylabel(\"Number of cases\")\n",
    "plt.grid()\n",
    "plt.title(f\"Confirmed Covid-19 Cases in {province}\")\n",
    "plt.show()"
   ]
  },
  {
   "cell_type": "markdown",
   "metadata": {},
   "source": [
    "## Approach 1 - Fit a linear model using least squares"
   ]
  },
  {
   "cell_type": "code",
   "execution_count": 6,
   "metadata": {},
   "outputs": [
    {
     "data": {
      "text/plain": [
       "2020-01-22    0.0\n",
       "2020-01-23    0.0\n",
       "2020-01-24    0.0\n",
       "2020-01-25    0.0\n",
       "2020-01-26    0.0\n",
       "Name: (Canada, British Columbia), dtype: float64"
      ]
     },
     "execution_count": 6,
     "metadata": {},
     "output_type": "execute_result"
    }
   ],
   "source": [
    "prov_data.head()"
   ]
  },
  {
   "cell_type": "code",
   "execution_count": 7,
   "metadata": {},
   "outputs": [
    {
     "name": "stdout",
     "output_type": "stream",
     "text": [
      "22 data points\n"
     ]
    }
   ],
   "source": [
    "# Choose start date for estimation data\n",
    "start_date = '2020-03-01'\n",
    "data = prov_data.loc[start_date:].values.reshape(-1, 1)\n",
    "index = prov_data.loc[start_date:].index[1:]\n",
    "\n",
    "# Prepare input and output data matrices\n",
    "M = data[:-1]\n",
    "y = data[1:]\n",
    "n = len(y)\n",
    "assert M.shape == (n, 1)\n",
    "assert y.shape == (n, 1)\n",
    "print(f\"{n} data points\")"
   ]
  },
  {
   "cell_type": "code",
   "execution_count": 8,
   "metadata": {},
   "outputs": [
    {
     "data": {
      "text/html": [
       "<div>\n",
       "<style scoped>\n",
       "    .dataframe tbody tr th:only-of-type {\n",
       "        vertical-align: middle;\n",
       "    }\n",
       "\n",
       "    .dataframe tbody tr th {\n",
       "        vertical-align: top;\n",
       "    }\n",
       "\n",
       "    .dataframe thead th {\n",
       "        text-align: right;\n",
       "    }\n",
       "</style>\n",
       "<table border=\"1\" class=\"dataframe\">\n",
       "  <thead>\n",
       "    <tr style=\"text-align: right;\">\n",
       "      <th></th>\n",
       "      <th>M</th>\n",
       "      <th>y</th>\n",
       "      <th>y/M</th>\n",
       "    </tr>\n",
       "  </thead>\n",
       "  <tbody>\n",
       "    <tr>\n",
       "      <th>2020-03-02</th>\n",
       "      <td>8.0</td>\n",
       "      <td>8.0</td>\n",
       "      <td>1.000000</td>\n",
       "    </tr>\n",
       "    <tr>\n",
       "      <th>2020-03-03</th>\n",
       "      <td>8.0</td>\n",
       "      <td>9.0</td>\n",
       "      <td>1.125000</td>\n",
       "    </tr>\n",
       "    <tr>\n",
       "      <th>2020-03-04</th>\n",
       "      <td>9.0</td>\n",
       "      <td>12.0</td>\n",
       "      <td>1.333333</td>\n",
       "    </tr>\n",
       "    <tr>\n",
       "      <th>2020-03-05</th>\n",
       "      <td>12.0</td>\n",
       "      <td>13.0</td>\n",
       "      <td>1.083333</td>\n",
       "    </tr>\n",
       "    <tr>\n",
       "      <th>2020-03-06</th>\n",
       "      <td>13.0</td>\n",
       "      <td>21.0</td>\n",
       "      <td>1.615385</td>\n",
       "    </tr>\n",
       "  </tbody>\n",
       "</table>\n",
       "</div>"
      ],
      "text/plain": [
       "               M     y       y/M\n",
       "2020-03-02   8.0   8.0  1.000000\n",
       "2020-03-03   8.0   9.0  1.125000\n",
       "2020-03-04   9.0  12.0  1.333333\n",
       "2020-03-05  12.0  13.0  1.083333\n",
       "2020-03-06  13.0  21.0  1.615385"
      ]
     },
     "execution_count": 8,
     "metadata": {},
     "output_type": "execute_result"
    }
   ],
   "source": [
    "pd.DataFrame({\n",
    "    'M': M.reshape(-1),\n",
    "    'y': y.reshape(-1),\n",
    "    'y/M': (y/M).reshape(-1)\n",
    "}, index=index).head()"
   ]
  },
  {
   "cell_type": "code",
   "execution_count": 9,
   "metadata": {},
   "outputs": [
    {
     "data": {
      "text/plain": [
       "array([[1.12799309]])"
      ]
     },
     "execution_count": 9,
     "metadata": {},
     "output_type": "execute_result"
    }
   ],
   "source": [
    "# Compute parameter vector using least squares\n",
    "# ('@' is matrix multiplication operator in Python > 3.4)\n",
    "a = np.linalg.inv(M.T @ M) @ M.T @ y\n",
    "a"
   ]
  },
  {
   "cell_type": "code",
   "execution_count": 10,
   "metadata": {},
   "outputs": [
    {
     "data": {
      "text/plain": [
       "-133.00728651108136"
      ]
     },
     "execution_count": 10,
     "metadata": {},
     "output_type": "execute_result"
    }
   ],
   "source": [
    "# Sum of residuals - should be close to zero\n",
    "np.sum(M*a - y)"
   ]
  },
  {
   "cell_type": "code",
   "execution_count": 11,
   "metadata": {},
   "outputs": [
    {
     "data": {
      "image/png": "[encoded data removed]",
      "text/plain": [
       "<Figure size 432x288 with 1 Axes>"
      ]
     },
     "metadata": {
      "needs_background": "light"
     },
     "output_type": "display_data"
    }
   ],
   "source": [
    "plt.plot(M*a - y)\n",
    "plt.title('Residual Errors')\n",
    "plt.grid()"
   ]
  },
  {
   "cell_type": "code",
   "execution_count": 12,
   "metadata": {},
   "outputs": [],
   "source": [
    "# WARNING: Residuals are not evenly distributed!"
   ]
  },
  {
   "cell_type": "code",
   "execution_count": 13,
   "metadata": {},
   "outputs": [
    {
     "data": {
      "text/plain": [
       "1192.2953936847125"
      ]
     },
     "execution_count": 13,
     "metadata": {},
     "output_type": "execute_result"
    }
   ],
   "source": [
    "# MSE\n",
    "np.mean((M*a - y)**2)"
   ]
  },
  {
   "cell_type": "code",
   "execution_count": 14,
   "metadata": {},
   "outputs": [
    {
     "data": {
      "text/plain": [
       "17563.05338848749"
      ]
     },
     "execution_count": 14,
     "metadata": {},
     "output_type": "execute_result"
    }
   ],
   "source": [
    "# Choose prediction horizon\n",
    "end_date = '2020-03-31'\n",
    "n_pred = (pd.Timestamp(end_date) - pd.Timestamp(start_date)).days\n",
    "\n",
    "# Make predictions with model\n",
    "x = np.zeros((1, n_pred + 1))\n",
    "x[:, 0] = M[0]\n",
    "for k in range(1, n_pred + 1):\n",
    "    x[:, k] = a*x[:, k-1]\n",
    "\n",
    "pred_index = pd.Index(pd.date_range(start_date, end_date))\n",
    "predictions = pd.Series(x.reshape(-1,), index=pred_index)\n",
    "\n",
    "# MSE of predictions (they are sensitive to initial x)\n",
    "np.mean((x[:, 1:n+1].T - M*a)**2)"
   ]
  },
  {
   "cell_type": "code",
   "execution_count": 15,
   "metadata": {},
   "outputs": [
    {
     "data": {
      "image/png": "[encoded data removed]",
      "text/plain": [
       "<Figure size 432x288 with 1 Axes>"
      ]
     },
     "metadata": {
      "needs_background": "light"
     },
     "output_type": "display_data"
    }
   ],
   "source": [
    "prov_data.loc[start_date:].plot(style='.', label='observed data')\n",
    "predictions.plot(style='-', label='prediction')\n",
    "plt.ylabel(\"Number of cases\")\n",
    "plt.grid()\n",
    "plt.title(f\"Confirmed Covid-19 Cases in {province}\")\n",
    "plt.tight_layout()\n",
    "plt.savefig('covid_growth_bc.png')\n",
    "plt.show()"
   ]
  },
  {
   "cell_type": "code",
   "execution_count": 16,
   "metadata": {},
   "outputs": [
    {
     "data": {
      "text/plain": [
       "2020-03-27    183.255648\n",
       "2020-03-28    206.711104\n",
       "2020-03-29    233.168696\n",
       "2020-03-30    263.012677\n",
       "2020-03-31    296.676481\n",
       "Freq: D, dtype: float64"
      ]
     },
     "execution_count": 16,
     "metadata": {},
     "output_type": "execute_result"
    }
   ],
   "source": [
    "predictions.tail()"
   ]
  },
  {
   "cell_type": "code",
   "execution_count": 17,
   "metadata": {},
   "outputs": [
    {
     "data": {
      "image/png": "[encoded data removed]",
      "text/plain": [
       "<Figure size 432x288 with 1 Axes>"
      ]
     },
     "metadata": {
      "needs_background": "light"
     },
     "output_type": "display_data"
    }
   ],
   "source": [
    "prov_data.loc[start_date:].plot(style='.', label='observed data')\n",
    "predictions.plot(style='-', label='prediction')\n",
    "plt.ylabel(\"Number of cases\")\n",
    "plt.yscale('log')\n",
    "plt.grid()\n",
    "plt.title(f\"Confirmed Covid-19 Cases in {province}\")\n",
    "plt.tight_layout()\n",
    "plt.savefig('covid_growth_bc_log.png')\n",
    "plt.show()"
   ]
  },
  {
   "cell_type": "code",
   "execution_count": 18,
   "metadata": {},
   "outputs": [],
   "source": [
    "# This model is biased towards fitting to recent growth rates"
   ]
  },
  {
   "cell_type": "markdown",
   "metadata": {},
   "source": [
    "## Approach 2 - Fit a linear model to the log of observations"
   ]
  },
  {
   "cell_type": "code",
   "execution_count": 19,
   "metadata": {},
   "outputs": [
    {
     "name": "stdout",
     "output_type": "stream",
     "text": [
      "22 data points\n"
     ]
    }
   ],
   "source": [
    "# Choose start date for estimation data\n",
    "start_date = '2020-03-01'\n",
    "data = pd.DataFrame({\n",
    "        'Cases': prov_data.loc[start_date:].values\n",
    "    },\n",
    "    index = prov_data.loc[start_date:].index\n",
    ")\n",
    "data['log(Cases)'] = np.log(data['Cases'])\n",
    "\n",
    "# Prepare input and output data matrices\n",
    "M = data['log(Cases)'][:-1].values.reshape(-1, 1)\n",
    "y = data['log(Cases)'][1:].values.reshape(-1, 1)\n",
    "n = len(y)\n",
    "assert M.shape == (n, 1)\n",
    "assert y.shape == (n, 1)\n",
    "print(f\"{n} data points\")"
   ]
  },
  {
   "cell_type": "code",
   "execution_count": 20,
   "metadata": {},
   "outputs": [
    {
     "data": {
      "text/html": [
       "<div>\n",
       "<style scoped>\n",
       "    .dataframe tbody tr th:only-of-type {\n",
       "        vertical-align: middle;\n",
       "    }\n",
       "\n",
       "    .dataframe tbody tr th {\n",
       "        vertical-align: top;\n",
       "    }\n",
       "\n",
       "    .dataframe thead th {\n",
       "        text-align: right;\n",
       "    }\n",
       "</style>\n",
       "<table border=\"1\" class=\"dataframe\">\n",
       "  <thead>\n",
       "    <tr style=\"text-align: right;\">\n",
       "      <th></th>\n",
       "      <th>M</th>\n",
       "      <th>y</th>\n",
       "      <th>y - M</th>\n",
       "    </tr>\n",
       "  </thead>\n",
       "  <tbody>\n",
       "    <tr>\n",
       "      <th>2020-03-02</th>\n",
       "      <td>2.079442</td>\n",
       "      <td>2.079442</td>\n",
       "      <td>0.000000</td>\n",
       "    </tr>\n",
       "    <tr>\n",
       "      <th>2020-03-03</th>\n",
       "      <td>2.079442</td>\n",
       "      <td>2.197225</td>\n",
       "      <td>0.117783</td>\n",
       "    </tr>\n",
       "    <tr>\n",
       "      <th>2020-03-04</th>\n",
       "      <td>2.197225</td>\n",
       "      <td>2.484907</td>\n",
       "      <td>0.287682</td>\n",
       "    </tr>\n",
       "    <tr>\n",
       "      <th>2020-03-05</th>\n",
       "      <td>2.484907</td>\n",
       "      <td>2.564949</td>\n",
       "      <td>0.080043</td>\n",
       "    </tr>\n",
       "    <tr>\n",
       "      <th>2020-03-06</th>\n",
       "      <td>2.564949</td>\n",
       "      <td>3.044522</td>\n",
       "      <td>0.479573</td>\n",
       "    </tr>\n",
       "  </tbody>\n",
       "</table>\n",
       "</div>"
      ],
      "text/plain": [
       "                   M         y     y - M\n",
       "2020-03-02  2.079442  2.079442  0.000000\n",
       "2020-03-03  2.079442  2.197225  0.117783\n",
       "2020-03-04  2.197225  2.484907  0.287682\n",
       "2020-03-05  2.484907  2.564949  0.080043\n",
       "2020-03-06  2.564949  3.044522  0.479573"
      ]
     },
     "execution_count": 20,
     "metadata": {},
     "output_type": "execute_result"
    }
   ],
   "source": [
    "pd.DataFrame({\n",
    "    'M': M.reshape(-1),\n",
    "    'y': y.reshape(-1),\n",
    "    'y - M': (y - M).reshape(-1)\n",
    "}, index=index).head()"
   ]
  },
  {
   "cell_type": "code",
   "execution_count": null,
   "metadata": {},
   "outputs": [],
   "source": []
  },
  {
   "cell_type": "code",
   "execution_count": 21,
   "metadata": {},
   "outputs": [
    {
     "data": {
      "text/plain": [
       "0.18046781425236919"
      ]
     },
     "execution_count": 21,
     "metadata": {},
     "output_type": "execute_result"
    }
   ],
   "source": [
    "# Compute the slope of the curve\n",
    "a = np.mean(y - M)\n",
    "a"
   ]
  },
  {
   "cell_type": "code",
   "execution_count": 22,
   "metadata": {},
   "outputs": [
    {
     "data": {
      "text/plain": [
       "-3.552713678800501e-15"
      ]
     },
     "execution_count": 22,
     "metadata": {},
     "output_type": "execute_result"
    }
   ],
   "source": [
    "# Sum of residuals - should be close to zero\n",
    "np.sum(M + a - y)"
   ]
  },
  {
   "cell_type": "code",
   "execution_count": 23,
   "metadata": {},
   "outputs": [
    {
     "data": {
      "image/png": "[encoded data removed]",
      "text/plain": [
       "<Figure size 432x288 with 1 Axes>"
      ]
     },
     "metadata": {
      "needs_background": "light"
     },
     "output_type": "display_data"
    }
   ],
   "source": [
    "plt.plot(M + a - y)\n",
    "plt.title('Residual Errors')\n",
    "plt.grid()"
   ]
  },
  {
   "cell_type": "code",
   "execution_count": 24,
   "metadata": {},
   "outputs": [],
   "source": [
    "# Looks better..."
   ]
  },
  {
   "cell_type": "code",
   "execution_count": 25,
   "metadata": {},
   "outputs": [
    {
     "data": {
      "text/plain": [
       "1317.0321279035143"
      ]
     },
     "execution_count": 25,
     "metadata": {},
     "output_type": "execute_result"
    }
   ],
   "source": [
    "# MSE\n",
    "np.mean((np.exp(M + a) - np.exp(y))**2)"
   ]
  },
  {
   "cell_type": "code",
   "execution_count": 26,
   "metadata": {},
   "outputs": [
    {
     "data": {
      "text/plain": [
       "0.03875520220781071"
      ]
     },
     "execution_count": 26,
     "metadata": {},
     "output_type": "execute_result"
    }
   ],
   "source": [
    "# Choose prediction horizon\n",
    "end_date = '2020-03-31'\n",
    "n_pred = (pd.Timestamp(end_date) - pd.Timestamp(start_date)).days\n",
    "\n",
    "# Make predictions with model\n",
    "x = np.zeros((1, n_pred + 1))\n",
    "x[:, 0] = M[0]\n",
    "for k in range(1, n_pred + 1):\n",
    "    x[:, k] = a + x[:, k-1]\n",
    "\n",
    "pred_index = pd.Index(pd.date_range(start_date, end_date))\n",
    "predictions = pd.Series(x.reshape(-1,), index=pred_index)\n",
    "\n",
    "# MSE of predictions (they are sensitive to initial x)\n",
    "x_data = x[:, 1:n+1].T\n",
    "np.mean((x_data - (M+a))**2)"
   ]
  },
  {
   "cell_type": "code",
   "execution_count": 27,
   "metadata": {},
   "outputs": [
    {
     "data": {
      "image/png": "[encoded data removed]",
      "text/plain": [
       "<Figure size 432x288 with 1 Axes>"
      ]
     },
     "metadata": {
      "needs_background": "light"
     },
     "output_type": "display_data"
    }
   ],
   "source": [
    "np.log(prov_data.loc[start_date:]).plot(style='.', label='observed data')\n",
    "predictions.plot(style='-', label='prediction')\n",
    "plt.ylabel(\"log(Number of cases)\")\n",
    "plt.grid()\n",
    "plt.title(f\"Confirmed Covid-19 Cases in {province}\")\n",
    "plt.tight_layout()\n",
    "plt.savefig('covid_growth_bc_2.png')\n",
    "plt.show()"
   ]
  },
  {
   "cell_type": "code",
   "execution_count": 28,
   "metadata": {},
   "outputs": [
    {
     "data": {
      "text/plain": [
       "2020-03-27     872.711221\n",
       "2020-03-28    1045.313926\n",
       "2020-03-29    1252.053573\n",
       "2020-03-30    1499.681686\n",
       "2020-03-31    1796.285084\n",
       "Freq: D, dtype: float64"
      ]
     },
     "execution_count": 28,
     "metadata": {},
     "output_type": "execute_result"
    }
   ],
   "source": [
    "np.exp(predictions).tail()"
   ]
  },
  {
   "cell_type": "code",
   "execution_count": 29,
   "metadata": {},
   "outputs": [
    {
     "data": {
      "image/png": "[encoded data removed]",
      "text/plain": [
       "<Figure size 432x288 with 1 Axes>"
      ]
     },
     "metadata": {
      "needs_background": "light"
     },
     "output_type": "display_data"
    }
   ],
   "source": [
    "prov_data.loc[start_date:].plot(style='.', label='observed data')\n",
    "np.exp(predictions).plot(style='-', label='prediction')\n",
    "plt.ylabel(\"Number of cases\")\n",
    "plt.grid()\n",
    "plt.title(f\"Confirmed Covid-19 Cases in {province}\")\n",
    "plt.tight_layout()\n",
    "plt.savefig('covid_growth_bc_2_log.png')\n",
    "plt.show()"
   ]
  },
  {
   "cell_type": "code",
   "execution_count": 30,
   "metadata": {},
   "outputs": [],
   "source": [
    "# Model prediction curve looks the right shape but initial condition\n",
    "# is biasing the overall trajectory"
   ]
  },
  {
   "cell_type": "markdown",
   "metadata": {},
   "source": [
    "## Approach 3 - Fit a model using numerical optimization"
   ]
  },
  {
   "cell_type": "code",
   "execution_count": 31,
   "metadata": {},
   "outputs": [
    {
     "data": {
      "text/html": [
       "<div>\n",
       "<style scoped>\n",
       "    .dataframe tbody tr th:only-of-type {\n",
       "        vertical-align: middle;\n",
       "    }\n",
       "\n",
       "    .dataframe tbody tr th {\n",
       "        vertical-align: top;\n",
       "    }\n",
       "\n",
       "    .dataframe thead th {\n",
       "        text-align: right;\n",
       "    }\n",
       "</style>\n",
       "<table border=\"1\" class=\"dataframe\">\n",
       "  <thead>\n",
       "    <tr style=\"text-align: right;\">\n",
       "      <th></th>\n",
       "      <th>Cases</th>\n",
       "      <th>log(Cases)</th>\n",
       "    </tr>\n",
       "  </thead>\n",
       "  <tbody>\n",
       "    <tr>\n",
       "      <th>2020-03-01</th>\n",
       "      <td>8.0</td>\n",
       "      <td>2.079442</td>\n",
       "    </tr>\n",
       "    <tr>\n",
       "      <th>2020-03-02</th>\n",
       "      <td>8.0</td>\n",
       "      <td>2.079442</td>\n",
       "    </tr>\n",
       "    <tr>\n",
       "      <th>2020-03-03</th>\n",
       "      <td>9.0</td>\n",
       "      <td>2.197225</td>\n",
       "    </tr>\n",
       "    <tr>\n",
       "      <th>2020-03-04</th>\n",
       "      <td>12.0</td>\n",
       "      <td>2.484907</td>\n",
       "    </tr>\n",
       "    <tr>\n",
       "      <th>2020-03-05</th>\n",
       "      <td>13.0</td>\n",
       "      <td>2.564949</td>\n",
       "    </tr>\n",
       "  </tbody>\n",
       "</table>\n",
       "</div>"
      ],
      "text/plain": [
       "            Cases  log(Cases)\n",
       "2020-03-01    8.0    2.079442\n",
       "2020-03-02    8.0    2.079442\n",
       "2020-03-03    9.0    2.197225\n",
       "2020-03-04   12.0    2.484907\n",
       "2020-03-05   13.0    2.564949"
      ]
     },
     "execution_count": 31,
     "metadata": {},
     "output_type": "execute_result"
    }
   ],
   "source": [
    "# Choose start date for estimation data\n",
    "start_date = '2020-03-01'\n",
    "data = pd.DataFrame(\n",
    "    {'Cases': prov_data.loc[start_date:].values},\n",
    "    index = prov_data.loc[start_date:].index\n",
    ")\n",
    "data['log(Cases)'] = np.log(data['Cases'])\n",
    "data.head()"
   ]
  },
  {
   "cell_type": "code",
   "execution_count": 32,
   "metadata": {},
   "outputs": [
    {
     "data": {
      "text/plain": [
       "2020-03-02     8.0\n",
       "2020-03-03     9.0\n",
       "2020-03-04    12.0\n",
       "2020-03-05    13.0\n",
       "2020-03-06    21.0\n",
       "Name: Cases, dtype: float64"
      ]
     },
     "execution_count": 32,
     "metadata": {},
     "output_type": "execute_result"
    }
   ],
   "source": [
    "# Initial condition and data to predict\n",
    "label = 'Cases'\n",
    "x0 = data.loc[start_date, label]\n",
    "x_data = data[label][1:]\n",
    "x_data.head()"
   ]
  },
  {
   "cell_type": "code",
   "execution_count": 33,
   "metadata": {},
   "outputs": [
    {
     "data": {
      "text/plain": [
       "array([ 9.6       , 11.52      , 13.824     , 16.5888    , 19.90656   ,\n",
       "       23.887872  , 28.6654464 , 34.39853568, 41.27824282, 49.53389138])"
      ]
     },
     "execution_count": 33,
     "metadata": {},
     "output_type": "execute_result"
    }
   ],
   "source": [
    "def predict(a, x0, nt):\n",
    "    \"\"\"Predicts trajectory of x for n timesteps given x[0] = x0\n",
    "    and x[k+1] = a*x[k].\n",
    "    \"\"\"\n",
    "    return x0 * np.cumprod(np.repeat(a, nt))\n",
    "\n",
    "# Example\n",
    "a = 1.2\n",
    "x0 = 8\n",
    "nt = 10\n",
    "predict(a, x0, nt)"
   ]
  },
  {
   "cell_type": "code",
   "execution_count": 34,
   "metadata": {},
   "outputs": [],
   "source": [
    "def mse(y, y_true):\n",
    "    \"\"\"Mean squared error of predictions compared to true values.\n",
    "    \"\"\"\n",
    "    return np.mean((y - y_true)**2)\n",
    "\n",
    "def cost_function(params, x_data):\n",
    "    \"\"\"Cost function to minimize.\n",
    "    \n",
    "    Args:\n",
    "        params (tuple): Unknown variables (a, x0) to optimize.\n",
    "        x_data (array): Data points to fit model to.\n",
    "    \"\"\"\n",
    "    a, x0 = params\n",
    "    x_pred = predict(a, x0, len(x_data))\n",
    "    return mse(x_pred, x_data)"
   ]
  },
  {
   "cell_type": "code",
   "execution_count": 35,
   "metadata": {},
   "outputs": [
    {
     "data": {
      "text/plain": [
       "1003.9716262157391"
      ]
     },
     "execution_count": 35,
     "metadata": {},
     "output_type": "execute_result"
    }
   ],
   "source": [
    "# Test\n",
    "params = (a, x0)\n",
    "cost_function(params, x_data)"
   ]
  },
  {
   "cell_type": "code",
   "execution_count": 36,
   "metadata": {},
   "outputs": [
    {
     "name": "stdout",
     "output_type": "stream",
     "text": [
      "Desired error not necessarily achieved due to precision loss.\n"
     ]
    },
    {
     "data": {
      "text/plain": [
       "(1.2224952373754372, 5.899124062498389)"
      ]
     },
     "execution_count": 36,
     "metadata": {},
     "output_type": "execute_result"
    }
   ],
   "source": [
    "# Initial guess\n",
    "x0 = (1.2, 8)\n",
    "\n",
    "# Minimize cost function\n",
    "res = minimize(cost_function, x0, args=(x_data.values))\n",
    "\n",
    "print(res.message)\n",
    "#assert res.status == 0\n",
    "\n",
    "a, x0 = res.x\n",
    "a, x0"
   ]
  },
  {
   "cell_type": "code",
   "execution_count": 37,
   "metadata": {},
   "outputs": [
    {
     "data": {
      "text/plain": [
       "1891.6477125689212"
      ]
     },
     "execution_count": 37,
     "metadata": {},
     "output_type": "execute_result"
    }
   ],
   "source": [
    "# Choose prediction horizon\n",
    "end_date = '2020-03-31'\n",
    "n_pred = (pd.Timestamp(end_date) - pd.Timestamp(start_date)).days\n",
    "\n",
    "# Make predictions with model\n",
    "x_pred = np.zeros(n_pred + 1)\n",
    "x_pred[0] = x0\n",
    "x_pred[1:] = predict(a, x0, n_pred)\n",
    "\n",
    "pred_index = pd.Index(pd.date_range(start_date, end_date))\n",
    "predictions = pd.Series(x_pred, index=pred_index)\n",
    "\n",
    "# MSE of predictions (they are sensitive to initial x)\n",
    "np.mean((x_data - x_pred[:len(x_data)])**2)"
   ]
  },
  {
   "cell_type": "code",
   "execution_count": 38,
   "metadata": {},
   "outputs": [
    {
     "data": {
      "image/png": "[encoded data removed]",
      "text/plain": [
       "<Figure size 432x288 with 1 Axes>"
      ]
     },
     "metadata": {
      "needs_background": "light"
     },
     "output_type": "display_data"
    }
   ],
   "source": [
    "plt.plot(x_data - x_pred[:len(x_data)])\n",
    "plt.title('Residual Errors')\n",
    "plt.grid()"
   ]
  },
  {
   "cell_type": "code",
   "execution_count": 39,
   "metadata": {},
   "outputs": [
    {
     "data": {
      "image/png": "[encoded data removed]",
      "text/plain": [
       "<Figure size 432x288 with 1 Axes>"
      ]
     },
     "metadata": {
      "needs_background": "light"
     },
     "output_type": "display_data"
    }
   ],
   "source": [
    "prov_data.loc[start_date:].plot(style='.', label='observed data')\n",
    "predictions.plot(style='-', label='prediction')\n",
    "plt.ylabel(\"Number of cases\")\n",
    "plt.grid()\n",
    "plt.title(f\"Confirmed Covid-19 Cases in {province}\")\n",
    "plt.tight_layout()\n",
    "plt.savefig('covid_growth_bc_3.png')\n",
    "plt.show()"
   ]
  },
  {
   "cell_type": "code",
   "execution_count": 40,
   "metadata": {},
   "outputs": [
    {
     "data": {
      "text/plain": [
       "2020-03-27    1094.495807\n",
       "2020-03-28    1338.015912\n",
       "2020-03-29    1635.718080\n",
       "2020-03-30    1999.657562\n",
       "2020-03-31    2444.571846\n",
       "Freq: D, dtype: float64"
      ]
     },
     "execution_count": 40,
     "metadata": {},
     "output_type": "execute_result"
    }
   ],
   "source": [
    "predictions.tail()"
   ]
  },
  {
   "cell_type": "code",
   "execution_count": 41,
   "metadata": {},
   "outputs": [
    {
     "data": {
      "image/png": "[encoded data removed]",
      "text/plain": [
       "<Figure size 432x288 with 1 Axes>"
      ]
     },
     "metadata": {
      "needs_background": "light"
     },
     "output_type": "display_data"
    }
   ],
   "source": [
    "prov_data.loc[start_date:].plot(style='.', label='observed data')\n",
    "predictions.plot(style='-', label='prediction')\n",
    "plt.ylabel(\"Number of cases\")\n",
    "plt.yscale('log')\n",
    "plt.grid()\n",
    "plt.title(f\"Confirmed Covid-19 Cases in {province}\")\n",
    "plt.tight_layout()\n",
    "plt.savefig('covid_growth_bc_3_log.png')\n",
    "plt.show()"
   ]
  },
  {
   "cell_type": "code",
   "execution_count": 42,
   "metadata": {},
   "outputs": [],
   "source": [
    "# This model is also biased toward minimizing the \n",
    "# MSE for higher case counts (more recent data)"
   ]
  },
  {
   "cell_type": "markdown",
   "metadata": {},
   "source": [
    "## Approach 4 - Minimize error in estimates of A"
   ]
  },
  {
   "cell_type": "code",
   "execution_count": 43,
   "metadata": {},
   "outputs": [
    {
     "data": {
      "text/plain": [
       "2020-03-02    1.125000\n",
       "2020-03-03    1.333333\n",
       "2020-03-04    1.083333\n",
       "2020-03-05    1.615385\n",
       "2020-03-06    1.000000\n",
       "Name: Cases, dtype: float64"
      ]
     },
     "execution_count": 43,
     "metadata": {},
     "output_type": "execute_result"
    }
   ],
   "source": [
    "# A better approach is to minimize the difference between the\n",
    "# estimate of A and the gains at each timestep:\n",
    "(x_data[1:].values / x_data[:-1]).head()"
   ]
  },
  {
   "cell_type": "code",
   "execution_count": 44,
   "metadata": {},
   "outputs": [
    {
     "data": {
      "text/plain": [
       "0.04975914352653251"
      ]
     },
     "execution_count": 44,
     "metadata": {},
     "output_type": "execute_result"
    }
   ],
   "source": [
    "# First optimize for a\n",
    "\n",
    "def mse(y, y_true):\n",
    "    \"\"\"Mean squared error of predictions compared to true values.\n",
    "    \"\"\"\n",
    "    return np.mean((y - y_true)**2)\n",
    "\n",
    "def cost_function(a, x_data):\n",
    "    \"\"\"Cost function to minimize.\n",
    "    \n",
    "    Args:\n",
    "        a (float): Variable to optimize (gain of linear model).\n",
    "        x_data (array): Data points to fit model to.\n",
    "    \"\"\"\n",
    "    a_data = x_data[1:] / x_data[:-1]\n",
    "    return mse(a, a_data)\n",
    "\n",
    "cost_function(1.2, x_data.values)"
   ]
  },
  {
   "cell_type": "code",
   "execution_count": null,
   "metadata": {},
   "outputs": [],
   "source": []
  },
  {
   "cell_type": "code",
   "execution_count": 45,
   "metadata": {},
   "outputs": [
    {
     "name": "stdout",
     "output_type": "stream",
     "text": [
      "Optimization terminated successfully.\n"
     ]
    },
    {
     "data": {
      "text/plain": [
       "array([1.22640827])"
      ]
     },
     "execution_count": 45,
     "metadata": {},
     "output_type": "execute_result"
    }
   ],
   "source": [
    "# Initial guess\n",
    "a = 1.2\n",
    "\n",
    "# Minimize cost function\n",
    "res = minimize(cost_function, x0, args=(x_data.values))\n",
    "\n",
    "print(res.message)\n",
    "#assert res.status == 0\n",
    "\n",
    "a = res.x\n",
    "a"
   ]
  },
  {
   "cell_type": "code",
   "execution_count": 46,
   "metadata": {},
   "outputs": [
    {
     "data": {
      "text/plain": [
       "1944.0458967102309"
      ]
     },
     "execution_count": 46,
     "metadata": {},
     "output_type": "execute_result"
    }
   ],
   "source": [
    "# Now find optimal initial condition\n",
    "\n",
    "def cost_function2(x0, x_data, a):\n",
    "    \"\"\"Cost function to minimize.\n",
    "    \n",
    "    Args:\n",
    "        x0 (float): Variable to optimize (initial condition).\n",
    "        x_data (array): Data points to fit model to.\n",
    "        a (float): Gain of linear model.\n",
    "    \"\"\"\n",
    "    x_pred = predict(a, x0, len(x_data))\n",
    "    return mse(x_pred, x_data)\n",
    "\n",
    "x0 = 8\n",
    "cost_function2(x0, x_data.values[1:], a)"
   ]
  },
  {
   "cell_type": "code",
   "execution_count": 47,
   "metadata": {},
   "outputs": [
    {
     "name": "stdout",
     "output_type": "stream",
     "text": [
      "Desired error not necessarily achieved due to precision loss.\n"
     ]
    },
    {
     "data": {
      "text/plain": [
       "array([5.53369332])"
      ]
     },
     "execution_count": 47,
     "metadata": {},
     "output_type": "execute_result"
    }
   ],
   "source": [
    "# Initial guess\n",
    "x0 = 8\n",
    "\n",
    "# Minimize cost function\n",
    "res = minimize(cost_function2, x0, args=(x_data.values, a))\n",
    "\n",
    "print(res.message)\n",
    "#assert res.status == 0\n",
    "\n",
    "x0 = res.x\n",
    "x0"
   ]
  },
  {
   "cell_type": "code",
   "execution_count": 48,
   "metadata": {},
   "outputs": [
    {
     "data": {
      "text/plain": [
       "1925.337333759536"
      ]
     },
     "execution_count": 48,
     "metadata": {},
     "output_type": "execute_result"
    }
   ],
   "source": [
    "# Choose prediction horizon\n",
    "end_date = '2020-03-31'\n",
    "n_pred = (pd.Timestamp(end_date) - pd.Timestamp(start_date)).days\n",
    "\n",
    "# Make predictions with model\n",
    "x_pred = np.zeros(n_pred + 1)\n",
    "x_pred[0] = x0\n",
    "x_pred[1:] = predict(a, x0, n_pred)\n",
    "\n",
    "pred_index = pd.Index(pd.date_range(start_date, end_date))\n",
    "predictions = pd.Series(x_pred, index=pred_index)\n",
    "\n",
    "# MSE of predictions (they are sensitive to initial x)\n",
    "np.mean((x_data - x_pred[:len(x_data)])**2)"
   ]
  },
  {
   "cell_type": "code",
   "execution_count": 49,
   "metadata": {},
   "outputs": [
    {
     "data": {
      "image/png": "[encoded data removed]",
      "text/plain": [
       "<Figure size 432x288 with 1 Axes>"
      ]
     },
     "metadata": {
      "needs_background": "light"
     },
     "output_type": "display_data"
    }
   ],
   "source": [
    "plt.plot(x_data - x_pred[:len(x_data)])\n",
    "plt.title('Residual Errors')\n",
    "plt.grid()"
   ]
  },
  {
   "cell_type": "code",
   "execution_count": 50,
   "metadata": {},
   "outputs": [
    {
     "data": {
      "image/png": "[encoded data removed]",
      "text/plain": [
       "<Figure size 432x288 with 1 Axes>"
      ]
     },
     "metadata": {
      "needs_background": "light"
     },
     "output_type": "display_data"
    }
   ],
   "source": [
    "prov_data.loc[start_date:].plot(style='.', label='observed data')\n",
    "predictions.plot(style='-', label='prediction')\n",
    "plt.ylabel(\"Number of cases\")\n",
    "plt.grid()\n",
    "plt.title(f\"Confirmed Covid-19 Cases in {province}\")\n",
    "plt.tight_layout()\n",
    "plt.savefig('covid_growth_bc_4.png')\n",
    "plt.show()"
   ]
  },
  {
   "cell_type": "code",
   "execution_count": 51,
   "metadata": {},
   "outputs": [
    {
     "data": {
      "text/plain": [
       "2020-03-27    1115.647266\n",
       "2020-03-28    1368.239032\n",
       "2020-03-29    1678.019662\n",
       "2020-03-30    2057.937189\n",
       "2020-03-31    2523.871185\n",
       "Freq: D, dtype: float64"
      ]
     },
     "execution_count": 51,
     "metadata": {},
     "output_type": "execute_result"
    }
   ],
   "source": [
    "predictions.tail()"
   ]
  },
  {
   "cell_type": "code",
   "execution_count": 52,
   "metadata": {},
   "outputs": [
    {
     "data": {
      "image/png": "[encoded data removed]",
      "text/plain": [
       "<Figure size 432x288 with 1 Axes>"
      ]
     },
     "metadata": {
      "needs_background": "light"
     },
     "output_type": "display_data"
    }
   ],
   "source": [
    "prov_data.loc[start_date:].plot(style='.', label='observed data')\n",
    "predictions.plot(style='-', label='prediction')\n",
    "plt.ylabel(\"Number of cases\")\n",
    "plt.yscale('log')\n",
    "plt.grid()\n",
    "plt.title(f\"Confirmed Covid-19 Cases in {province}\")\n",
    "plt.tight_layout()\n",
    "plt.savefig('covid_growth_bc_4_log.png')\n",
    "plt.show()"
   ]
  },
  {
   "cell_type": "code",
   "execution_count": 53,
   "metadata": {},
   "outputs": [],
   "source": [
    "# This looks like a good approach given we want to predict from latest data"
   ]
  },
  {
   "cell_type": "code",
   "execution_count": null,
   "metadata": {},
   "outputs": [],
   "source": []
  },
  {
   "cell_type": "code",
   "execution_count": null,
   "metadata": {},
   "outputs": [],
   "source": []
  }
 ],
 "metadata": {
  "kernelspec": {
   "display_name": "Python [conda env:torch]",
   "language": "python",
   "name": "conda-env-torch-py"
  },
  "language_info": {
   "codemirror_mode": {
    "name": "ipython",
    "version": 3
   },
   "file_extension": ".py",
   "mimetype": "text/x-python",
   "name": "python",
   "nbconvert_exporter": "python",
   "pygments_lexer": "ipython3",
   "version": "3.7.6"
  }
 },
 "nbformat": 4,
 "nbformat_minor": 2
}
